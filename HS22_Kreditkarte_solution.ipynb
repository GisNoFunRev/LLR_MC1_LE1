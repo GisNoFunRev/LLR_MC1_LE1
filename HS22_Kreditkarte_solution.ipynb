{
 "cells": [
  {
   "cell_type": "markdown",
   "id": "cf32f357",
   "metadata": {},
   "source": [
    "# HS22_Kreditkarte — Lösung (Python)\n",
    "\n",
    "*Schema: Aufgabenbeschrieb → Lösungsansatz & Erklärung → Code → Erklärung Output → Nächste Aufgabe*"
   ]
  },
  {
   "cell_type": "markdown",
   "id": "404060c0",
   "metadata": {},
   "source": [
    "## Aufgabe 1\n",
    "\n",
    "**Aufgabenbeschrieb**\n",
    "\n",
    "Daten einlesen, **Besitz Kreditkarte (owns_card)** abhängig von **Alter (age)** grafisch darstellen.\n",
    "\n",
    "**Lösungsansatz & Erklärung**\n",
    "\n",
    "Scatter von age vs. owns_card (0/1) + ggf. Jitter; zusätzlich Balken der Mittelwerte nach Alters-Bins."
   ]
  },
  {
   "cell_type": "code",
   "execution_count": null,
   "id": "c1b4bd65",
   "metadata": {},
   "outputs": [],
   "source": [
    "import pandas as pd, numpy as np, matplotlib.pyplot as plt\n",
    "df = pd.read_csv(\"/mnt/data/creditcard-1760476079.csv\")\n",
    "y = 'owns_card'; X = 'age'\n",
    "plt.figure(); plt.scatter(df[X], df[y], alpha=0.3); plt.xlabel(X); plt.ylabel(y)"
   ]
  },
  {
   "cell_type": "markdown",
   "id": "a986b14e",
   "metadata": {},
   "source": [
    "**Erklärung Output**\n",
    "\n",
    "Punkte bei 0/1; visuell erkennbar, wie Wahrscheinlichkeit mit Alter variiert.\n",
    "\n",
    "---\n",
    "*Nächste Aufgabe →*"
   ]
  },
  {
   "cell_type": "markdown",
   "id": "6115c860",
   "metadata": {},
   "source": [
    "## Aufgabe 2\n",
    "\n",
    "**Aufgabenbeschrieb**\n",
    "\n",
    "Logistische Regression ohne Regularisierung; Gleichung angeben.\n",
    "\n",
    "**Lösungsansatz & Erklärung**\n",
    "\n",
    "statsmodels.Logit mit Intercept. Gleichung: log(p/(1-p)) = b0 + b1*age."
   ]
  },
  {
   "cell_type": "code",
   "execution_count": null,
   "id": "34c3a481",
   "metadata": {},
   "outputs": [],
   "source": [
    "import statsmodels.api as sm\n",
    "Xmat = sm.add_constant(df[['age']])\n",
    "yvec = df['owns_card'].astype(int)\n",
    "logit = sm.Logit(yvec, Xmat).fit(disp=False)\n",
    "b0, b1 = float(logit.params['const']), float(logit.params['age'])\n",
    "b0, b1, logit.summary()"
   ]
  },
  {
   "cell_type": "markdown",
   "id": "a023dfa0",
   "metadata": {},
   "source": [
    "**Erklärung Output**\n",
    "\n",
    "Mit b0, b1 kann p(x) = 1/(1+exp(-(b0+b1*x))) berechnet werden.\n",
    "\n",
    "---\n",
    "*Nächste Aufgabe →*"
   ]
  },
  {
   "cell_type": "markdown",
   "id": "cfcfc2e8",
   "metadata": {},
   "source": [
    "## Aufgabe 3\n",
    "\n",
    "**Aufgabenbeschrieb**\n",
    "\n",
    "Logistische Kurve zusammen mit den Daten plotten.\n",
    "\n",
    "**Lösungsansatz & Erklärung**\n",
    "\n",
    "Gitter über age aufspannen und p(x) plotten."
   ]
  },
  {
   "cell_type": "code",
   "execution_count": null,
   "id": "ccb9cadd",
   "metadata": {},
   "outputs": [],
   "source": [
    "xg = np.linspace(df['age'].min(), df['age'].max(), 200)\n",
    "Xg = sm.add_constant(pd.DataFrame({'age':xg}))\n",
    "pg = logit.predict(Xg)\n",
    "plt.figure(); plt.scatter(df['age'], yvec, alpha=0.2)\n",
    "plt.plot(xg, pg, ls='--'); plt.xlabel('age'); plt.ylabel('P(owns_card)')"
   ]
  },
  {
   "cell_type": "markdown",
   "id": "a81fd6e0",
   "metadata": {},
   "source": [
    "**Erklärung Output**\n",
    "\n",
    "Die Kurve zeigt geschätzte Wahrscheinlichkeit des KK‑Besitzes über das Alter.\n",
    "\n",
    "---\n",
    "*Nächste Aufgabe →*"
   ]
  },
  {
   "cell_type": "markdown",
   "id": "97d63af3",
   "metadata": {},
   "source": [
    "## Aufgabe 4\n",
    "\n",
    "**Aufgabenbeschrieb**\n",
    "\n",
    "Wahrscheinlichkeit für 80-jährige Person.\n",
    "\n",
    "**Lösungsansatz & Erklärung**\n",
    "\n",
    "In Gleichung einsetzen bzw. predict mit age=80."
   ]
  },
  {
   "cell_type": "code",
   "execution_count": null,
   "id": "7e8b25e7",
   "metadata": {},
   "outputs": [],
   "source": [
    "x80 = sm.add_constant(pd.DataFrame({'age':[80]}))\n",
    "p80 = float(logit.predict(x80)); p80, round(100*p80,2)"
   ]
  },
  {
   "cell_type": "markdown",
   "id": "6d02b00e",
   "metadata": {},
   "source": [
    "**Erklärung Output**\n",
    "\n",
    "Prozentwert im Prüfungsbogen eintragen (z. B. 1.8 %).\n",
    "\n",
    "---\n",
    "*Nächste Aufgabe →*"
   ]
  },
  {
   "cell_type": "markdown",
   "id": "185800d0",
   "metadata": {},
   "source": [
    "## Aufgabe 5\n",
    "\n",
    "**Aufgabenbeschrieb**\n",
    "\n",
    "Konfusionsmatrix & Accuracy (Schwelle 0.5).\n",
    "\n",
    "**Lösungsansatz & Erklärung**\n",
    "\n",
    "Mit sklearn confusion_matrix und accuracy_score."
   ]
  },
  {
   "cell_type": "code",
   "execution_count": null,
   "id": "b15a9a33",
   "metadata": {},
   "outputs": [],
   "source": [
    "from sklearn.metrics import confusion_matrix, accuracy_score\n",
    "p = logit.predict(Xmat)\n",
    "yhat = (p>=0.5).astype(int)\n",
    "cm = confusion_matrix(yvec, yhat); acc = accuracy_score(yvec, yhat)\n",
    "cm, acc"
   ]
  },
  {
   "cell_type": "markdown",
   "id": "cbe13241",
   "metadata": {},
   "source": [
    "**Erklärung Output**\n",
    "\n",
    "Aus cm die Felder **TP/FP/FN/TN** herauslesen und beschriften.\n",
    "\n",
    "---\n",
    "*Nächste Aufgabe →*"
   ]
  }
 ],
 "metadata": {},
 "nbformat": 4,
 "nbformat_minor": 5
}
