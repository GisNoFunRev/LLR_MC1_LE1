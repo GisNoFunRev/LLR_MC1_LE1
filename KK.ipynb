{
 "cells": [
  {
   "metadata": {},
   "cell_type": "markdown",
   "source": "",
   "id": "6114faeff91c00d2"
  },
  {
   "metadata": {
    "ExecuteTime": {
     "end_time": "2025-10-22T12:13:07.948097Z",
     "start_time": "2025-10-22T12:13:07.944247Z"
    }
   },
   "cell_type": "code",
   "source": [
    "# Imports\n",
    "import pandas as pd, matplotlib.pyplot as plt\n",
    "from sklearn.linear_model import LogisticRegression\n",
    "from sklearn.metrics import confusion_matrix, accuracy_score\n",
    "from sklearn.metrics import ConfusionMatrixDisplay\n",
    "\n"
   ],
   "id": "51ac6495e42bf7f8",
   "outputs": [],
   "execution_count": 19
  },
  {
   "metadata": {},
   "cell_type": "markdown",
   "source": [
    "\n",
    "## 1a) Daten einlesen & Plot\n",
    "\n",
    "**Aufgabenbeschrieb (Wortlaut aus der Probeprüfung)**\n",
    "\n",
    "Lesen Sie die Daten in R oder Python ein. Stellen Sie den Besitz einer Kreditkarte abhängig vom Alter grafisch dar. Beschriften Sie die Achsen korrekt.\n",
    "\n",
    "**Theorie**\n",
    "\n",
    "Ziel ist eine erste visuelle Einschätzung des Zusammenhangs zwischen erklärender Variable (Alter) und binärer Zielvariable (Kreditkartenbesitz: 1/0). Ein Scatterplot mit `Age` (x-Achse) und `CreditCard` (y-Achse) zeigt die Verteilung der 0/1-Punkte: Häufen sich Einsen bei niedrigen Altern und Nullen bei hohen Altern, spricht das für einen **monotonen Zusammenhang**. Da die Zielvariable binär ist, sehen wir üblicherweise zwei „Bänder“ (bei y=0 und y=1) statt einer klassischen Wolke — die relative Dichte in diesen Bändern über x ist aussagekräftig.\n",
    "\n",
    "**Lösungsansatz (warum dieser sklearn-Workflow)**\n",
    "\n",
    "Wir lesen die CSV einmalig mit `pandas.read_csv()` ein. Da die Spalte `CreditCard` oft als Text „Yes/No“ vorliegt, wandeln wir sie direkt beim Einlesen in 0/1 um (`converters={\"CreditCard\": ...}`) — so vermeiden wir spätere Hilfsspalten. Für die Visualisierung genügt `plt.scatter(...)` und saubere Achsenbeschriftung (Prüfungsanforderung).\n",
    "\n",
    "\n",
    "\n"
   ],
   "id": "4fc947f16af33773"
  },
  {
   "metadata": {
    "ExecuteTime": {
     "end_time": "2025-10-22T12:18:39.311605Z",
     "start_time": "2025-10-22T12:18:39.213568Z"
    }
   },
   "cell_type": "code",
   "source": [
    "# 1a matplotlib\n",
    "\n",
    "\n",
    "df = pd.read_csv(\"creditcard.csv\", converters={\"CreditCard\": lambda x: 1 if x==\"Yes\" else 0})\n",
    "plt.scatter(df[\"Age\"], df[\"CreditCard\"])\n",
    "plt.xlabel(\"Alter\")\n",
    "plt.ylabel(\"Kreditkarte (0/1)\")\n",
    "\n",
    "\n",
    "\n"
   ],
   "id": "90290df836b42b77",
   "outputs": [
    {
     "data": {
      "text/plain": [
       "Text(0, 0.5, 'Kreditkarte (0/1)')"
      ]
     },
     "execution_count": 20,
     "metadata": {},
     "output_type": "execute_result"
    },
    {
     "data": {
      "text/plain": [
       "<Figure size 640x480 with 1 Axes>"
      ],
      "image/png": "[encoded data removed]"
     },
     "metadata": {},
     "output_type": "display_data"
    }
   ],
   "execution_count": 20
  },
  {
   "metadata": {},
   "cell_type": "markdown",
   "source": [
    "**Erklärung des Outputs (neu)**\n",
    "Die Punkte zeigen, wie sich Kreditkartenbesitz (1) bzw. kein Besitz (0) über dem Alter verteilt. In deinem Datensatz ist sichtbar: bei jüngeren Personen treten 1-Werte häufiger auf, bei höheren Altern häufiger 0-Werte — ein erster Hinweis darauf, dass die **Wahrscheinlichkeit** für Kreditkartenbesitz mit dem Alter **abnimmt** (dies wird in 1b/1c modelliert und bestätigt).\n",
    "\n"
   ],
   "id": "4f8441f2df8c3382"
  },
  {
   "metadata": {},
   "cell_type": "markdown",
   "source": [
    "---\n",
    "---\n",
    "\n",
    "## 1b) Logistische Regression (ohne Regularisierung) + Gleichung\n",
    "\n",
    "**Aufgabenbeschrieb (Wortlaut aus der Probeprüfung)**\n",
    "\n",
    "Finden Sie mittels logistischer Regression (ohne Regularisierung, ohne Train-Test-Set) ein gutes Modell für den Besitz einer Kreditkarte abhängig vom Alter. Sie dürfen dazu beliebige Libraries/Methoden benutzen. Geben Sie die gefundene Gleichung (π = ...) hier an:\n",
    "\n",
    "---\n",
    "\n",
    "**Theorie (ausführlich erklärt)**\n",
    "\n",
    "Die **logistische Regression** ist ein statistisches Modell, das verwendet wird, wenn die **Zielvariable (abhängige Variable)** nur zwei Werte annehmen kann — zum Beispiel:\n",
    "- 1 = Person besitzt eine Kreditkarte\n",
    "- 0 = Person besitzt keine Kreditkarte\n",
    "\n",
    "Das Ziel ist es, die **Wahrscheinlichkeit** zu modellieren, dass eine Person zur Klasse „1“ gehört (also z. B. eine Kreditkarte besitzt), **abhängig von einer erklärenden Variable** wie dem Alter.\n",
    "\n",
    "Diese Wahrscheinlichkeit wird durch die **logistische Funktion** beschrieben:\n",
    "\n",
    "$$\n",
    "\\pi(x) = \\frac{1}{1 + \\exp(-(\\beta_0 + \\beta_1 x))} \\in (0, 1)\n",
    "$$\n",
    "\n",
    "- $\\pi(x)$ steht für die **geschätzte Wahrscheinlichkeit**, dass das Ereignis (z. B. Kreditkarte = 1) eintritt, gegeben ein bestimmtes Alter $x$.\n",
    "- $\\beta_0$ ist der **Achsenabschnitt** (engl. *intercept*): der Wert des linearen Modells, wenn $x = 0$ ist.\n",
    "- $\\beta_1$ ist der **Steigungsparameter** (engl. *slope*): er zeigt, wie stark sich die Wahrscheinlichkeit verändert, wenn $x$ (das Alter) um eine Einheit steigt.\n",
    "- $\\exp(\\cdot)$ ist die Exponentialfunktion $e^{(\\cdot)}$, die sicherstellt, dass das Ergebnis zwischen 0 und 1 bleibt.\n",
    "\n",
    "Das Modell erzeugt also **keine lineare Beziehung**, sondern eine **S-Kurve (sigmoid)**:\n",
    "Bei sehr kleinen $x$-Werten liegt $\\pi(x)$ nahe 0, bei sehr grossen $x$-Werten nahe 1.\n",
    "\n",
    "---\n",
    "\n",
    "**Logit-Transformation**\n",
    "\n",
    "Die logistische Funktion kann umgeformt werden, sodass sie als **lineares Modell im Logit-Raum** dargestellt wird.\n",
    "Der **Logit** ist der **logarithmierte Quotient aus den Wahrscheinlichkeiten** (auch „Log-Odds“ genannt):\n",
    "\n",
    "$$\n",
    "\\operatorname{logit}(\\pi) = \\ln\\!\\frac{\\pi}{1 - \\pi} = \\beta_0 + \\beta_1 x\n",
    "$$\n",
    "\n",
    "Das bedeutet:\n",
    "- Statt direkt die Wahrscheinlichkeit zu modellieren, modelliert man den **Logit**, also das Verhältnis zwischen „Ereignis tritt ein“ und „Ereignis tritt nicht ein“.\n",
    "- Dadurch wird der Zusammenhang **linear** und lässt sich mit denselben Methoden wie bei der linearen Regression schätzen.\n",
    "\n",
    "Beispielhafte Interpretation:\n",
    "- Wenn $\\beta_1 > 0$, dann **steigt** die Wahrscheinlichkeit für eine Kreditkarte mit zunehmendem Alter.\n",
    "- Wenn $\\beta_1 < 0$, dann **sinkt** sie mit zunehmendem Alter.\n",
    "\n",
    "$\\exp(\\beta_1)$ ist die sogenannte **Odds-Ratio**.\n",
    "Sie gibt an, **um welchen Faktor sich die Chancen (Odds)** für eine Kreditkarte **ändern**, wenn das Alter um 1 Jahr steigt:\n",
    "- $\\exp(\\beta_1) > 1$: höhere Chance mit steigendem Alter\n",
    "- $\\exp(\\beta_1) < 1$: niedrigere Chance mit steigendem Alter\n",
    "- $\\exp(\\beta_1) = 1$: kein Einfluss\n",
    "\n",
    "Die Werte $\\hat{\\beta_0}$ und $\\hat{\\beta_1}$ (mit „Dach“) sind die **geschätzten Parameter**, die das Modell per **Maximum-Likelihood-Methode** findet.\n",
    "\n",
    "---\n",
    "\n",
    "**Maximum-Likelihood-Schätzung (MLE)**\n",
    "\n",
    "Während die lineare Regression die Parameter so wählt, dass die **Fehlerquadrate minimiert** werden, wählt die logistische Regression ihre Parameter so, dass die **Wahrscheinlichkeit der beobachteten Daten maximal wird**.\n",
    "\n",
    "Das nennt man **Maximum-Likelihood-Schätzung (MLE)**.\n",
    "Dabei wird für jede Beobachtung geschaut, wie wahrscheinlich es wäre, die beobachtete Klasse (0 oder 1) zu sehen — abhängig von den aktuellen Parametern $\\beta_0, \\beta_1$.\n",
    "Das Verfahren sucht dann die Parameter, die diese Gesamtwahrscheinlichkeit (das *Likelihood*-Produkt) **maximieren**.\n",
    "\n",
    "Das Ergebnis sind die Schätzer:\n",
    "$\n",
    "\\hat{\\beta_0}, \\hat{\\beta_1}\n",
    "$\n",
    "\n",
    "---\n",
    "\n",
    "**Lösungsansatz (Warum dieser sklearn-Workflow)**\n",
    "\n",
    "In der Python-Library **`scikit-learn`** gibt es ein fertiges Modell:\n",
    "`sklearn.linear_model.LogisticRegression`.\n",
    "\n",
    "Dieses Modell verwendet **Maximum-Likelihood-Schätzung** intern, um $\\beta_0$ und $\\beta_1$ zu bestimmen.\n",
    "Es nutzt dazu ein numerisches Optimierungsverfahren (standardmässig den **LBFGS-Algorithmus**).\n",
    "\n",
    "Aber:\n",
    "Standardmässig enthält dieses Modell **Regularisierung** (eine Art „Strafterm“, der grosse Koeffizienten vermeidet, um Überanpassung zu verhindern).\n",
    "Da in der Aufgabe **„ohne Regularisierung“** gefordert ist, muss man diese Regularisierung **deaktivieren**.\n",
    "\n",
    "Das geschieht, indem man den Parameter **`C=1e9`** setzt.\n",
    "`C` steuert die Stärke der Regularisierung:\n",
    "- kleine Werte (z. B. `C=0.1`) = starke Regularisierung\n",
    "- grosse Werte (z. B. `C=1e9`) = praktisch keine Regularisierung\n",
    "\n",
    "Der Parameter **`solver=\"lbfgs\"`** gibt an, welches numerische Verfahren zum Finden der optimalen $\\beta$-Werte genutzt wird.\n",
    "`\"lbfgs\"` ist ein **robustes, modernes Optimierungsverfahren**, das sich gut für kleine bis mittlere Datensätze eignet.\n",
    "\n",
    "Nach dem Trainieren kann man sich die **geschätzten Koeffizienten** ausgeben lassen:\n",
    "- `model.intercept_` → $\\hat{\\beta_0}$\n",
    "- `model.coef_` → $\\hat{\\beta_1}$\n",
    "\n",
    "Damit lässt sich die geforderte **Modellgleichung** angeben:\n",
    "\n",
    "$$\n",
    "\\pi(x) = \\frac{1}{1 + \\exp(-(\\hat{\\beta_0} + \\hat{\\beta_1}x))}\n",
    "$$\n",
    "\n",
    "Das ist genau die Gleichung, die in der Prüfung verlangt ist.\n",
    "\n",
    "---\n",
    "\n",
    "**Kurz zusammengefasst**\n",
    "\n",
    "| Begriff | Bedeutung |\n",
    "|----------|------------|\n",
    "| $\\pi(x)$ | Wahrscheinlichkeit, dass $y=1$ (z. B. Kreditkarte = 1) |\n",
    "| $\\beta_0$ | Achsenabschnitt – Basislogit bei $x=0$ |\n",
    "| $\\beta_1$ | Steigung – Veränderung des Logits pro Einheit $x$ |\n",
    "| $\\exp(\\beta_1)$ | Odds-Ratio (Faktoränderung der Chancen) |\n",
    "| MLE | Verfahren zur Parameterschätzung durch Likelihood-Maximierung |\n",
    "| `C=1e9` | Abschalten der Regularisierung (praktisch „ohne“) |\n",
    "| `solver=\"lbfgs\"` | Algorithmus für numerische Optimierung |\n",
    "\n",
    "---\n"
   ],
   "id": "223051e5babf7494"
  },
  {
   "metadata": {
    "ExecuteTime": {
     "end_time": "2025-10-22T12:19:22.293841Z",
     "start_time": "2025-10-22T12:19:22.272856Z"
    }
   },
   "cell_type": "code",
   "source": [
    "# 1b — Fit + explizite Modellgleichung\n",
    "m = LogisticRegression(C=1e9, solver=\"lbfgs\").fit(df[[\"Age\"]], df[\"CreditCard\"])\n",
    "b0, b1 = float(m.intercept_[0]), float(m.coef_[0,0])\n",
    "print(f\"π(x) = 1 / (1 + exp(-({b0:.5f} + {b1:.5f} * x)))\")\n",
    "\n"
   ],
   "id": "fda13a227e50ad29",
   "outputs": [
    {
     "name": "stdout",
     "output_type": "stream",
     "text": [
      "π(x) = 1 / (1 + exp(-(4.30962 + -0.10380 * x)))\n"
     ]
    }
   ],
   "execution_count": 21
  },
  {
   "metadata": {
    "ExecuteTime": {
     "end_time": "2025-10-22T12:20:08.780293Z",
     "start_time": "2025-10-22T12:20:08.760695Z"
    }
   },
   "cell_type": "code",
   "source": [
    "# 1b sklearn\n",
    "m = LogisticRegression(C=1e9, solver=\"lbfgs\").fit(df[[\"Age\"]], df[\"CreditCard\"])\n",
    "print(m.intercept_[0], m.coef_[0,0])\n"
   ],
   "id": "7a7ba205d0579fcf",
   "outputs": [
    {
     "name": "stdout",
     "output_type": "stream",
     "text": [
      "4.309622314573932 -0.10379806142026499\n"
     ]
    }
   ],
   "execution_count": 26
  },
  {
   "metadata": {},
   "cell_type": "markdown",
   "source": [
    "**Erklärung des Outputs (neu)**\n",
    "\n",
    "Die ausgegebenen $\\hat\\beta$-Werte ergeben die geschätzte Gleichung $\\hat\\pi(x)$.\n",
    "In deinem Datensatz ist $\\hat\\beta_1 < 0$: mit zunehmendem Alter **sinkt** die vorhergesagte Wahrscheinlichkeit für Kreditkartenbesitz.\n",
    "Die Gleichung kann direkt für Vorhersagen genutzt werden (1d) und liefert in 1c die Kurve.\n"
   ],
   "id": "43eda3343aa671be"
  },
  {
   "metadata": {},
   "cell_type": "markdown",
   "source": [
    "---\n",
    "---\n",
    "\n",
    "## 1c) Grafik: Daten + logistische Kurve\n",
    "\n",
    "**Aufgabenbeschrieb**\n",
    "\n",
    "Stellen Sie die geschätzte logistische Funktion gemeinsam mit den Daten dar.\n",
    "\n",
    "---\n",
    "\n",
    "### Theorie (ausführlich erklärt)\n",
    "\n",
    "Die **logistische Funktion** beschreibt, wie sich die Wahrscheinlichkeit $\\pi(x)$ in Abhängigkeit von einer erklärenden Variable (z. B. Alter) verändert.\n",
    "Sie hat eine **S-Form (Sigmoid-Kurve)**, weil sie bei sehr kleinen $x$-Werten gegen $0$ strebt (fast niemand hat das Merkmal) und bei sehr grossen $x$-Werten gegen $1$ (fast alle haben das Merkmal).\n",
    "\n",
    "Nach dem Schätzen des Modells mit der logistischen Regression erhalten wir die **geschätzte Funktion**:\n",
    "\n",
    "$$\n",
    "\\hat{\\pi}(x) = \\frac{1}{1 + \\exp(-(\\hat{\\beta_0} + \\hat{\\beta_1}x))}\n",
    "$$\n",
    "\n",
    "- $\\hat{\\pi}(x)$ ist die vom Modell vorhergesagte Wahrscheinlichkeit für jeden Wert von $x$.\n",
    "- $\\hat{\\beta_0}$ und $\\hat{\\beta_1}$ sind die zuvor geschätzten Parameter (aus Aufgabe 1b).\n",
    "\n",
    "Wenn man diese Funktion **über die beobachteten Daten legt**, sieht man, **wie gut das Modell passt**:\n",
    "- Wenn die Kurve die beobachtete Tendenz (mehr 1er bei grösserem $x$) gut widerspiegelt, ist das Modell plausibel.\n",
    "- Wenn sie stark danebenliegt oder die Form nicht stimmt, ist das Modell unpassend.\n",
    "\n",
    "Das ist eine **visuelle Güteprüfung**: Man beurteilt, ob die geschätzte Kurve sinnvoll mit den Daten übereinstimmt.\n",
    "\n",
    "---\n",
    "\n",
    "### Warum die Kurve S-förmig ist\n",
    "\n",
    "Die Form der logistischen Funktion entsteht durch die Exponentialfunktion im Nenner:\n",
    "\n",
    "$$\n",
    "\\exp(-(\\hat{\\beta_0} + \\hat{\\beta_1}x))\n",
    "$$\n",
    "\n",
    "Wenn $x$ sehr klein ist, ist der Exponent gross und positiv → $\\exp(-(\\text{gross}))$ ist fast 0 → $\\pi(x)$ nahe 0.\n",
    "Wenn $x$ sehr gross ist, ist der Exponent stark negativ → $\\exp(-(\\text{negativ}))$ wird gross → $\\pi(x)$ nähert sich 1.\n",
    "\n",
    "Dadurch ergibt sich die charakteristische S-Kurve.\n",
    "\n",
    "---\n",
    "\n",
    "### Lösungsansatz (ausführlich erklärt)\n",
    "\n",
    "Um die Grafik zu erstellen, kombinieren wir **zwei Darstellungsebenen**:\n",
    "\n",
    "1. **Rohdatenpunkte $(x, y)$**\n",
    "   Jeder Punkt steht für eine Person:\n",
    "   - $x =$ Alter\n",
    "   - $y =$ Kreditkartenbesitz (0 = nein, 1 = ja)\n",
    "\n",
    "   Diese Punkte werden meist mit `plt.scatter()` dargestellt.\n",
    "   Da die $y$-Werte nur 0 oder 1 annehmen, liegen die Punkte auf zwei horizontalen Linien.\n",
    "\n",
    "2. **Geschätzte logistische Kurve $\\hat{\\pi}(x)$**\n",
    "   Mit der Formel (oder direkt mit `model.predict_proba()[:, 1]`) kann man für jedes Alter $x$ die geschätzte Wahrscheinlichkeit berechnen.\n",
    "   Diese Werte trägt man als **Linie** (`plt.plot()`) über die Datenpunkte.\n",
    "\n",
    "---\n",
    "\n",
    "### Praktische Hinweise\n",
    "\n",
    "- **Kein Sortieren nötig**:\n",
    "  Die Reihenfolge der Datenpunkte im Plot spielt keine Rolle.\n",
    "  Leichte „Zacken“ in der Linie entstehen nur, wenn die $x$-Werte unsortiert sind – das ist rein optisch und nicht relevant für die Bewertung.\n",
    "\n",
    "- **Warum keine Glättung nötig ist**:\n",
    "  Das Modell selbst ist bereits eine glatte, analytische Funktion.\n",
    "  Wenn du für jede Beobachtung den zugehörigen $\\hat{\\pi}(x)$-Wert berechnest, ist das automatisch die exakte Kurve.\n",
    "\n",
    "- **Darstellungstipp**:\n",
    "  Wenn man die Kurve etwas glatter sehen möchte, kann man die $x$-Werte fein zwischen dem Minimum und Maximum interpolieren (z. B. mit `np.linspace()`), aber das ist **optional** und für Prüfungen **nicht erforderlich**.\n",
    "\n",
    "---\n",
    "\n",
    "### Schritt-für-Schritt-Zusammenfassung\n",
    "\n",
    "| Schritt | Beschreibung | Python-Funktion |\n",
    "|----------|---------------|----------------|\n",
    "| 1 | Datenpunkte $(x, y)$ plotten | `plt.scatter(x, y)` |\n",
    "| 2 | $\\hat{\\pi}(x)$ berechnen | `model.predict_proba(x)[:, 1]` |\n",
    "| 3 | Logistische Kurve darüber legen | `plt.plot(x, y_pred)` |\n",
    "| 4 | Achsen und Titel beschriften | `plt.xlabel()`, `plt.ylabel()` |\n",
    "\n",
    "---\n",
    "\n",
    "### Kurz gesagt\n",
    "\n",
    "- Die **Datenpunkte** zeigen, was beobachtet wurde.\n",
    "- Die **Kurve** zeigt, was das Modell schätzt.\n",
    "- **Je besser die Kurve zu den Punkten passt**, desto glaubwürdiger ist das Modell.\n",
    "\n",
    "---\n"
   ],
   "id": "9c6852c69427126d"
  },
  {
   "metadata": {
    "ExecuteTime": {
     "end_time": "2025-10-22T09:12:26.319176Z",
     "start_time": "2025-10-22T09:12:26.241494Z"
    }
   },
   "cell_type": "code",
   "source": [
    "# 1c sklearn\n",
    "plt.scatter(df[\"Age\"], df[\"CreditCard\"])\n",
    "plt.plot(df[\"Age\"], m.predict_proba(df[[\"Age\"]])[:,1], color=\"red\")\n"
   ],
   "id": "56016216886fc5e9",
   "outputs": [
    {
     "data": {
      "text/plain": [
       "[<matplotlib.lines.Line2D at 0x1e80c56ad50>]"
      ]
     },
     "execution_count": 5,
     "metadata": {},
     "output_type": "execute_result"
    },
    {
     "data": {
      "text/plain": [
       "<Figure size 640x480 with 1 Axes>"
      ],
      "image/png": "[encoded data removed]"
     },
     "metadata": {},
     "output_type": "display_data"
    }
   ],
   "execution_count": 5
  },
  {
   "metadata": {
    "ExecuteTime": {
     "end_time": "2025-10-22T09:12:26.419970Z",
     "start_time": "2025-10-22T09:12:26.344932Z"
    }
   },
   "cell_type": "code",
   "source": [
    "# 1c (sklearn, minimal & sauber)\n",
    "plt.scatter(df[\"Age\"], df[\"CreditCard\"])\n",
    "s = df[[\"Age\"]].sort_values(\"Age\")           # nur für eine glatte Linie; s= age_sorted\n",
    "plt.plot(s[\"Age\"], m.predict_proba(s)[:,1], color=\"red\")\n",
    "\n"
   ],
   "id": "332c57d169140b41",
   "outputs": [
    {
     "data": {
      "text/plain": [
       "[<matplotlib.lines.Line2D at 0x1e80c5c9090>]"
      ]
     },
     "execution_count": 6,
     "metadata": {},
     "output_type": "execute_result"
    },
    {
     "data": {
      "text/plain": [
       "<Figure size 640x480 with 1 Axes>"
      ],
      "image/png": "[encoded data removed]"
     },
     "metadata": {},
     "output_type": "display_data"
    }
   ],
   "execution_count": 6
  },
  {
   "metadata": {},
   "cell_type": "markdown",
   "source": [
    "**Erklärung des Outputs (neu)**\n",
    "Die roten Werte sind Modellwahrscheinlichkeiten $(\\hat\\pi(x)\\ $. Der sichtbare **fallende Verlauf** bestätigt: mit höherem Alter nimmt die geschätzte Wahrscheinlichkeit für Kreditkartenbesitz ab; der Übergangsbereich um $ (x^\\*\\ $ trennt „eher Besitz“ von „eher kein Besitz“.\n"
   ],
   "id": "b692125fc7998e2d"
  },
  {
   "metadata": {},
   "cell_type": "markdown",
   "source": [
    "---\n",
    "---\n",
    "## 1d) Wahrscheinlichkeit für 80-jährige Person\n",
    "\n",
    "**Aufgabenbeschrieb**\n",
    "Berechnen Sie $\\hat{\\pi}(80)$ in Prozent.\n",
    "\n",
    "---\n",
    "\n",
    "### Theorie (ausführlich erklärt)\n",
    "\n",
    "Das Ziel ist, mit dem zuvor geschätzten logistischen Modell die **Wahrscheinlichkeit** zu berechnen, dass eine 80-jährige Person eine Kreditkarte besitzt.\n",
    "\n",
    "Die allgemeine logistische Gleichung lautet:\n",
    "\n",
    "$$\n",
    "\\hat{\\pi}(x) = \\frac{1}{1 + \\exp\\big(-(\\hat{\\beta_0} + \\hat{\\beta_1}x)\\big)}\n",
    "$$\n",
    "\n",
    "Setzt man $x = 80$ ein, erhält man:\n",
    "\n",
    "$$\n",
    "\\hat{\\pi}(80) = \\frac{1}{1 + \\exp\\!\\big(-(\\hat{\\beta_0} + \\hat{\\beta_1}\\cdot 80)\\big)}\n",
    "$$\n",
    "\n",
    "Diese Formel liefert einen Wert zwischen $0$ und $1$.\n",
    "Dieser Wert ist die **geschätzte Wahrscheinlichkeit**, dass eine 80-jährige Person eine Kreditkarte besitzt.\n",
    "Um ihn in **Prozent** anzugeben, multipliziert man mit $100$:\n",
    "\n",
    "$$\n",
    "\\text{Wahrscheinlichkeit in \\%} = \\hat{\\pi}(80)\\times 100\n",
    "$$\n",
    "\n",
    "---\n",
    "\n",
    "### Warum das funktioniert\n",
    "\n",
    "Das Modell beschreibt, wie sich die Wahrscheinlichkeit mit dem Alter verändert.\n",
    "- Wenn $\\hat{\\beta_1} > 0$, **steigt** die Wahrscheinlichkeit mit zunehmendem Alter.\n",
    "- Wenn $\\hat{\\beta_1} < 0$, **sinkt** sie mit zunehmendem Alter.\n",
    "\n",
    "Da $\\hat{\\pi}(x)$ bereits eine kalibrierte Wahrscheinlichkeit ist (immer zwischen $0$ und $1$), kann sie direkt interpretiert werden — es braucht keine weitere Skalierung ausser der optionalen Umrechnung in Prozent.\n",
    "\n",
    "**Beispiel (hypothetisch):**\n",
    "Wenn $\\hat{\\pi}(80) = 0.78$, bedeutet das:\n",
    "> Laut Modell besitzt eine 80-jährige Person mit **78 %** Wahrscheinlichkeit eine Kreditkarte.\n",
    "\n",
    "---\n",
    "\n",
    "### Lösungsansatz (ausführlich erklärt)\n",
    "\n",
    "1. **Verwenden Sie das Modell aus 1b**, das die Parameter $\\hat{\\beta_0}$ und $\\hat{\\beta_1}$ enthält.\n",
    "2. **Berechnen Sie den linearen Ausdruck** $\\hat{\\beta_0} + \\hat{\\beta_1}\\cdot 80$.\n",
    "3. **Setzen Sie ihn in die logistische Formel ein**, um $\\hat{\\pi}(80)$ zu erhalten.\n",
    "4. **Wandeln Sie das Ergebnis in Prozent um** (Multiplikation mit $100$).\n",
    "\n",
    "In Python (mit bereits trainiertem `model` aus `sklearn`):\n",
    "\n",
    "```python\n",
    "def predict_p80_percent(model):\n",
    "    import numpy as np\n",
    "    x_new = np.array([[80]], dtype=float)\n",
    "    pi_80 = model.predict_proba(x_new)[:, 1][0]   # Wahrscheinlichkeit für Klasse 1\n",
    "    return 100.0 * pi_80\n",
    "```\n",
    "\n",
    "`predict_p80_percent(model)` gibt die **geschätzte Wahrscheinlichkeit in Prozent** zurück.\n",
    "\n",
    "---\n",
    "\n",
    "### Zusammengefasst (tabellarisch)\n",
    "\n",
    "| Symbol | Bedeutung |\n",
    "|:--|:--|\n",
    "| $\\hat{\\pi}(x)$ | Modellierte Wahrscheinlichkeit für Kreditkartenbesitz |\n",
    "| $\\hat{\\pi}(80)$ | Wahrscheinlichkeit speziell für eine 80-jährige Person |\n",
    "| $\\hat{\\beta_0}$ | Intercept (Basis-Logit bei $x=0$) |\n",
    "| $\\hat{\\beta_1}$ | Steigung, bestimmt den Einfluss des Alters |\n",
    "| $\\times 100$ | Umwandlung in Prozentwert |\n",
    "\n",
    "---\n",
    "\n",
    "### Interpretation des Ergebnisses\n",
    "\n",
    "- **Hoher Wert (z. B. $>70\\%$):** sehr wahrscheinlich, dass eine 80-jährige Person eine Kreditkarte besitzt.\n",
    "- **Niedriger Wert (z. B. $<30\\%$):** eher unwahrscheinlich.\n"
   ],
   "id": "8601b01557ab3d1d"
  },
  {
   "metadata": {
    "ExecuteTime": {
     "end_time": "2025-10-22T09:12:26.432790Z",
     "start_time": "2025-10-22T09:12:26.426312Z"
    }
   },
   "cell_type": "code",
   "source": [
    "# 1d sklearn\n",
    "m.predict_proba(pd.DataFrame({\"Age\":[80]}))[:,1]\n"
   ],
   "id": "961a19c4d7a79331",
   "outputs": [
    {
     "data": {
      "text/plain": [
       "array([0.01808854])"
      ]
     },
     "execution_count": 7,
     "metadata": {},
     "output_type": "execute_result"
    }
   ],
   "execution_count": 7
  },
  {
   "metadata": {},
   "cell_type": "markdown",
   "source": [
    "**Erklärung des Outputs (neu)**\n",
    "Der Skalar ist die **Prozent-Wahrscheinlichkeit** für Kreditkartenbesitz bei 80 Jahren. In deinem Datensatz ist dieser Wert **sehr klein**, konsistent mit dem in 1b/1c beobachteten negativen Alterseffekt.\n",
    "\n"
   ],
   "id": "6d8fc1716350aa7a"
  },
  {
   "metadata": {},
   "cell_type": "markdown",
   "source": [
    "---\n",
    "---\n",
    "## 1e) Klassifikationsmatrix (Confusion Matrix)\n",
    "\n",
    "**Aufgabenbeschrieb**\n",
    "Berechnen Sie die Klassifikationsmatrix (true positives, false negatives, …) und beschriften Sie sie eindeutig.\n",
    "Sowohl Zeilen, Spalten als auch die Begriffe (true positives, false negatives etc.) sollen klar beschriftet sein.\n",
    "\n",
    "---\n",
    "\n",
    "### Theorie (ausführlich erklärt)\n",
    "\n",
    "Das Ziel der **Klassifikationsmatrix** ist es, zu überprüfen, **wie gut das Modell die Klassen korrekt vorhersagt**.\n",
    "Die logistische Regression liefert für jede Beobachtung eine **Wahrscheinlichkeit** $\\hat{\\pi}(x)$ zwischen 0 und 1, also die geschätzte Wahrscheinlichkeit, dass die Zielvariable den Wert 1 annimmt (z.B. „Person besitzt eine Kreditkarte“).\n",
    "\n",
    "Um daraus eine Klassenvorhersage (0 oder 1) zu machen, muss eine **Schwelle (Threshold)** festgelegt werden.\n",
    "Diese Schwelle ist **nicht Teil der Aufgabenstellung**, aber sie ist notwendig, um aus Wahrscheinlichkeiten Klassenvorhersagen zu erzeugen.\n",
    "\n",
    "In der Praxis (und in `scikit-learn`) wird standardmässig **$t = 0{.}5$** verwendet:\n",
    "$$\n",
    "\\hat{y} =\n",
    "\\begin{cases}\n",
    "1, & \\text{wenn } \\hat{\\pi}(x) \\ge 0{.}5 \\\\\n",
    "0, & \\text{wenn } \\hat{\\pi}(x) < 0{.}5\n",
    "\\end{cases}\n",
    "$$\n",
    "\n",
    "Diese Standardregel bedeutet:\n",
    "- Wenn die Wahrscheinlichkeit für Klasse 1 mindestens 50% beträgt, wird **1** vorhergesagt.\n",
    "- Andernfalls wird **0** vorhergesagt.\n",
    "\n",
    "---\n",
    "\n",
    "### Aufbau der Konfusionsmatrix\n",
    "\n",
    "Nachdem die Vorhersagen $\\hat{y}$ erstellt wurden, werden sie mit den tatsächlichen Werten $y$ verglichen.\n",
    "Die Ergebnisse werden in einer **2×2-Matrix** zusammengefasst:\n",
    "\n",
    "| | **Vorhergesagt = 0** | **Vorhergesagt = 1** |\n",
    "|--|--|--|\n",
    "| **Tatsächlich = 0** | **TN (True Negative)** – korrekt als „keine Kreditkarte“ erkannt | **FP (False Positive)** – fälschlich als „Kreditkarte“ erkannt |\n",
    "| **Tatsächlich = 1** | **FN (False Negative)** – fälschlich als „keine Kreditkarte“ erkannt | **TP (True Positive)** – korrekt als „Kreditkarte“ erkannt |\n",
    "\n",
    "---\n",
    "\n",
    "### Erklärung der Begriffe\n",
    "\n",
    "- **True Positive (TP):** Das Modell sagt 1, und die Person hat tatsächlich eine Kreditkarte.\n",
    "- **False Positive (FP):** Das Modell sagt 1, aber die Person hat **keine** Kreditkarte.\n",
    "- **False Negative (FN):** Das Modell sagt 0, aber die Person hat **eine** Kreditkarte.\n",
    "- **True Negative (TN):** Das Modell sagt 0, und die Person hat tatsächlich **keine** Kreditkarte.\n",
    "\n",
    "Diese vier Werte bilden die Grundlage für Kennzahlen wie **Accuracy**, **Sensitivität (Recall)** und **Spezifität**.\n",
    "\n",
    "---\n",
    "\n",
    "### Lösungsansatz (ausführlich erklärt)\n",
    "\n",
    "1. **Wahrscheinlichkeiten berechnen:**\n",
    "\n",
    "   Verwenden Sie das Modell aus 1b, um $\\hat{\\pi}(x)$ zu berechnen.\n",
    "   ```python\n",
    "   y_prob = model.predict_proba(X)[:, 1]\n",
    "   ```\n",
    "\n",
    "\n",
    "2. **Binarisierung (Standard-Schwelle 0.5):**\n",
    "\n",
    "   Klassifizieren Sie jede Beobachtung in 0 oder 1, je nachdem, ob $\\hat{\\pi}(x)$ über oder unter 0.5 liegt.\n",
    "   ```python\n",
    "   y_pred = (y_prob >= 0.5).astype(int)\n",
    "   ```\n",
    "\n",
    "\n",
    "3. **Matrix berechnen:**\n",
    "\n",
    "   Verwenden Sie die Funktion `confusion_matrix(y, y_pred)` aus `sklearn.metrics`, um die 2×2-Matrix zu erzeugen.\n",
    "   ```python\n",
    "   from sklearn.metrics import confusion_matrix\n",
    "   cm = confusion_matrix(y, y_pred)\n",
    "   ```\n",
    "\n",
    "\n",
    "4. **Matrix beschriften:**\n",
    "\n",
    "   Die Matrix kann als DataFrame mit aussagekräftigen Zeilen- und Spaltennamen ausgegeben werden:\n",
    "   ```python\n",
    "   import pandas as pd\n",
    "   cm_df = pd.DataFrame(cm, index=[\"Tatsächlich 0\", \"Tatsächlich 1\"],\n",
    "                           columns=[\"Vorhergesagt 0\", \"Vorhergesagt 1\"])\n",
    "   print(cm_df)\n",
    "   ```\n",
    "\n",
    "\n",
    "---\n",
    "\n",
    "### Zusammengefasst\n",
    "\n",
    "| Symbol | Bedeutung |\n",
    "|:--|:--|\n",
    "| **TP** | True Positives – korrekt erkannte Kreditkartenbesitzer |\n",
    "| **FP** | False Positives – fälschlich als Kreditkartenbesitzer erkannt |\n",
    "| **FN** | False Negatives – fälschlich als Nicht-Besitzer erkannt |\n",
    "| **TN** | True Negatives – korrekt erkannte Nicht-Besitzer |\n",
    "| **$t$ (Threshold)** | Entscheidungsschwelle, standardmässig $0.5$ in sklearn |\n",
    "\n",
    "---\n",
    "\n",
    "### Interpretation der Ergebnisse\n",
    "\n",
    "- **Viele TP und TN:** Das Modell funktioniert gut und trennt die Klassen klar.\n",
    "- **Viele FP:** Das Modell ist zu „optimistisch“ (sagt zu oft „Kreditkarte vorhanden“).\n",
    "- **Viele FN:** Das Modell ist zu „vorsichtig“ und übersieht tatsächliche Besitzer.\n",
    "- **Ausgewogene Matrix:** Hinweis auf gute Kalibrierung und passendes Schwellenverhalten.\n",
    "\n",
    "---\n"
   ],
   "id": "46f2f236b21e7808"
  },
  {
   "metadata": {
    "ExecuteTime": {
     "end_time": "2025-10-22T09:13:28.673072Z",
     "start_time": "2025-10-22T09:13:28.573588Z"
    }
   },
   "cell_type": "code",
   "source": [
    "from sklearn.metrics import ConfusionMatrixDisplay\n",
    "\n",
    "yhat = (m.predict_proba(df[[\"Age\"]])[:,1] >= 0.5).astype(int)\n",
    "ConfusionMatrixDisplay.from_predictions(df[\"CreditCard\"], yhat, display_labels=[0, 1])\n",
    "\n",
    "\n"
   ],
   "id": "bfd3e58cbfe92c0b",
   "outputs": [
    {
     "data": {
      "text/plain": [
       "<sklearn.metrics._plot.confusion_matrix.ConfusionMatrixDisplay at 0x1e80e6efb10>"
      ]
     },
     "execution_count": 12,
     "metadata": {},
     "output_type": "execute_result"
    },
    {
     "data": {
      "text/plain": [
       "<Figure size 640x480 with 2 Axes>"
      ],
      "image/png": "[encoded data removed]"
     },
     "metadata": {},
     "output_type": "display_data"
    }
   ],
   "execution_count": 12
  },
  {
   "metadata": {
    "ExecuteTime": {
     "end_time": "2025-10-22T09:12:33.518238Z",
     "start_time": "2025-10-22T09:12:33.507817Z"
    }
   },
   "cell_type": "code",
   "source": [
    "# 1e sklearn\n",
    "yhat = (m.predict_proba(df[[\"Age\"]])[:,1] >= 0.5).astype(int)\n",
    "\n",
    "confusion_matrix(df[\"CreditCard\"], yhat)\n"
   ],
   "id": "fdc42a4d79d6dc58",
   "outputs": [
    {
     "data": {
      "text/plain": [
       "array([[ 99,  68],\n",
       "       [ 32, 201]])"
      ]
     },
     "execution_count": 9,
     "metadata": {},
     "output_type": "execute_result"
    }
   ],
   "execution_count": 9
  },
  {
   "metadata": {},
   "cell_type": "markdown",
   "source": [
    "### Erklärung des Outputs\n",
    "Die Matrix hat Form\n",
    "$$\n",
    "\\begin{pmatrix}\n",
    "\\text{TN} & \\text{FP}\\\\\n",
    "\\text{FN} & \\text{TP}\n",
    "\\end{pmatrix}.\n",
    "$$\n",
    "Viele TN/TP und wenige FP/FN sprechen für gute Trennschärfe bei $t=0{.}5$.\n"
   ],
   "id": "dd6ae3d5ea7fab5d"
  },
  {
   "metadata": {},
   "cell_type": "markdown",
   "source": [
    "---\n",
    "---\n",
    "## 1f) Anteil korrekt klassifizierter Daten (Accuracy)\n",
    "\n",
    "**Aufgabenbeschrieb**\n",
    "Berechnen Sie den Prozentsatz korrekt klassifizierter Beobachtungen.\n",
    "\n",
    "---\n",
    "\n",
    "### Theorie (ausführlich erklärt)\n",
    "\n",
    "Die **Accuracy** (Genauigkeit) misst, **wie viele Beobachtungen insgesamt korrekt klassifiziert** wurden.\n",
    "Sie ist eine der am häufigsten verwendeten Kennzahlen, um die Gesamtleistung eines Klassifikationsmodells zu beurteilen.\n",
    "\n",
    "Die Formel lautet:\n",
    "\n",
    "$$\n",
    "\\text{Accuracy} = \\frac{TP + TN}{TP + TN + FP + FN}\n",
    "$$\n",
    "\n",
    "Dabei bedeuten:\n",
    "- **TP (True Positives):** korrekt als positiv erkannt (z.B. Kreditkarte vorhanden und richtig erkannt)\n",
    "- **TN (True Negatives):** korrekt als negativ erkannt (z.B. keine Kreditkarte und richtig erkannt)\n",
    "- **FP (False Positives):** fälschlich als positiv klassifiziert\n",
    "- **FN (False Negatives):** fälschlich als negativ klassifiziert\n",
    "\n",
    "Die Accuracy misst also den Anteil aller **korrekten Vorhersagen** (TP + TN) an **allen Beobachtungen**.\n",
    "\n",
    "$$\n",
    "\\text{Accuracy} = \\frac{\\text{richtig klassifizierte Fälle}}{\\text{alle Fälle}}\n",
    "$$\n",
    "\n",
    "---\n",
    "\n",
    "### Warum Accuracy nützlich, aber begrenzt ist\n",
    "\n",
    "Accuracy ist intuitiv und leicht verständlich – ein Wert von z.B. 0.9 bedeutet:\n",
    "> 90% aller Beobachtungen wurden korrekt klassifiziert.\n",
    "\n",
    "Allerdings kann Accuracy **täuschen**, wenn die Klassen **ungleich verteilt** sind.\n",
    "Beispiel:\n",
    "- 95% der Personen haben **keine** Kreditkarte, nur 5% haben eine.\n",
    "- Ein Modell, das **immer „keine Kreditkarte“** vorhersagt, hätte trotzdem **95% Accuracy** – obwohl es nie einen echten Besitzer erkannt hat.\n",
    "\n",
    "Deshalb sollte Accuracy **nur gemeinsam mit anderen Kennzahlen** (z.B. Sensitivität, Spezifität, F1-Score) interpretiert werden.\n",
    "\n",
    "---\n",
    "\n",
    "### Typische Wertebereiche und Interpretation\n",
    "\n",
    "| Accuracy | Interpretation |\n",
    "|-----------|----------------|\n",
    "| **> 0.9** | Sehr gutes Modell (falls Klassen ausgeglichen) |\n",
    "| **0.7 – 0.9** | Akzeptables Modell |\n",
    "| **< 0.7** | Schwaches Modell oder stark ungleiche Klassen |\n",
    "| **≈ Mehrheitsanteil** | Modell erkennt wahrscheinlich nur die Hauptklasse |\n",
    "\n",
    "---\n",
    "\n",
    "### Lösungsansatz (ausführlich erklärt)\n",
    "\n",
    "In Python kann man die Accuracy bequem mit der Funktion `accuracy_score()` aus `sklearn.metrics` berechnen.\n",
    "Voraussetzung: Es liegen die tatsächlichen Werte `y` und die vom Modell vorhergesagten Klassen `y_pred` vor.\n",
    "\n",
    "Schritte:\n",
    "\n",
    "1. Berechne die Vorhersagen (wie in 1e):\n",
    "   ```python\n",
    "   y_prob = model.predict_proba(X)[:, 1]\n",
    "   y_pred = (y_prob >= 0.5).astype(int)\n",
    "   ```\n",
    "2. Berechne die Accuracy mit `accuracy_score()`:\n",
    "   ```python\n",
    "   from sklearn.metrics import accuracy_score\n",
    "   acc = accuracy_score(y, y_pred)\n",
    "   print(\"Accuracy:\", acc)\n",
    "   ```\n",
    "\n",
    "Man kann das Ergebnis auch als Prozentwert darstellen, z.B. `acc * 100` für Prozentangabe.\n",
    "\n",
    "Beispiel-Funktion:\n",
    "\n",
    "```python\n",
    "from sklearn.metrics import accuracy_score\n",
    "\n",
    "def compute_accuracy(model, X, y, threshold=0.5):\n",
    "    import numpy as np\n",
    "    y_prob = model.predict_proba(X)[:, 1]\n",
    "    y_pred = (y_prob >= threshold).astype(int)\n",
    "    acc = accuracy_score(y, y_pred)\n",
    "    return acc * 100  # Rückgabe in Prozent\n",
    "```\n",
    "\n",
    "---\n",
    "\n",
    "### Zusammengefasst\n",
    "\n",
    "| Symbol | Bedeutung |\n",
    "|:--|:--|\n",
    "| **TP** | True Positives – korrekt erkannte Positive |\n",
    "| **TN** | True Negatives – korrekt erkannte Negative |\n",
    "| **FP** | False Positives – falsch als positiv erkannt |\n",
    "| **FN** | False Negatives – falsch als negativ erkannt |\n",
    "| **Accuracy** | Anteil korrekt klassifizierter Beobachtungen |\n",
    "\n",
    "---\n",
    "\n",
    "### Interpretation des Ergebnisses\n",
    "\n",
    "- **Hohe Accuracy (z.B. >90%)** → Das Modell klassifiziert die meisten Beobachtungen richtig.\n",
    "- **Mittlere Accuracy (70–90%)** → Modell funktioniert, könnte aber verbessert werden.\n",
    "- **Niedrige Accuracy (<70%)** → Modell trennt die Klassen schlecht oder Daten sind unausgewogen.\n",
    "- **Achtung:** Bei unausgeglichenen Klassen ist Accuracy **nicht aussagekräftig allein** – dann sind Kennzahlen wie **Recall** oder **Precision** wichtiger.\n",
    "\n",
    "---\n"
   ],
   "id": "e4d0b8b5e04fcd8"
  },
  {
   "metadata": {
    "ExecuteTime": {
     "end_time": "2025-10-22T09:20:34.853167Z",
     "start_time": "2025-10-22T09:20:34.845986Z"
    }
   },
   "cell_type": "code",
   "source": [
    "# 1f — Accuracy in Prozent\n",
    "accuracy_score(df[\"CreditCard\"], yhat)\n",
    "\n"
   ],
   "id": "9d96b556155983f0",
   "outputs": [
    {
     "data": {
      "text/plain": [
       "0.75"
      ]
     },
     "execution_count": 18,
     "metadata": {},
     "output_type": "execute_result"
    }
   ],
   "execution_count": 18
  },
  {
   "metadata": {},
   "cell_type": "markdown",
   "source": [
    "**Erklärung des Outputs (neu)**\n",
    "Der Wert gibt den **Prozentanteil** korrekt eingestufter Personen an. In deinem Datensatz liegt er deutlich über 50 % (Zufall) und über der trivialen Mehrheitsregel — das bestätigt, dass bereits das Alter als einzelner Prädiktor **nützliche Trenninformation** liefert.\n"
   ],
   "id": "8e98e08f265a2595"
  },
  {
   "metadata": {},
   "cell_type": "code",
   "source": "",
   "id": "d956b850e5279d87",
   "outputs": [],
   "execution_count": null
  },
  {
   "metadata": {},
   "cell_type": "code",
   "source": "",
   "id": "40c6915a56a5012e",
   "outputs": [],
   "execution_count": null
  },
  {
   "metadata": {},
   "cell_type": "code",
   "source": "",
   "id": "41f03cd2cf72a1b",
   "outputs": [],
   "execution_count": null
  },
  {
   "metadata": {},
   "cell_type": "code",
   "source": "",
   "id": "93cbdf836cf79373",
   "outputs": [],
   "execution_count": null
  },
  {
   "metadata": {},
   "cell_type": "code",
   "source": "",
   "id": "532f4a5a53ed87ac",
   "outputs": [],
   "execution_count": null
  },
  {
   "metadata": {},
   "cell_type": "code",
   "source": "",
   "id": "9c8528541522606a",
   "outputs": [],
   "execution_count": null
  },
  {
   "metadata": {},
   "cell_type": "code",
   "source": "",
   "id": "a289265b7f29bac7",
   "outputs": [],
   "execution_count": null
  },
  {
   "metadata": {},
   "cell_type": "code",
   "source": "",
   "id": "b41698dd95874d46",
   "outputs": [],
   "execution_count": null
  },
  {
   "metadata": {},
   "cell_type": "code",
   "source": "",
   "id": "b14a8f52d7b68cc1",
   "outputs": [],
   "execution_count": null
  },
  {
   "metadata": {},
   "cell_type": "code",
   "source": "",
   "id": "6fb4e8d248528a18",
   "outputs": [],
   "execution_count": null
  },
  {
   "metadata": {},
   "cell_type": "code",
   "source": "",
   "id": "6f5681d3c899dd7e",
   "outputs": [],
   "execution_count": null
  },
  {
   "metadata": {},
   "cell_type": "code",
   "source": "",
   "id": "de73c3ebeb732ffe",
   "outputs": [],
   "execution_count": null
  },
  {
   "metadata": {},
   "cell_type": "code",
   "source": "",
   "id": "19fb2382749c2613",
   "outputs": [],
   "execution_count": null
  },
  {
   "metadata": {},
   "cell_type": "code",
   "source": "",
   "id": "22da2f354cf006b5",
   "outputs": [],
   "execution_count": null
  },
  {
   "metadata": {},
   "cell_type": "code",
   "source": "",
   "id": "f44bbba67b0285a2",
   "outputs": [],
   "execution_count": null
  },
  {
   "metadata": {},
   "cell_type": "code",
   "source": "",
   "id": "12cb952310c6695",
   "outputs": [],
   "execution_count": null
  }
 ],
 "metadata": {
  "kernelspec": {
   "display_name": "Python 3",
   "language": "python",
   "name": "python3"
  },
  "language_info": {
   "codemirror_mode": {
    "name": "ipython",
    "version": 2
   },
   "file_extension": ".py",
   "mimetype": "text/x-python",
   "name": "python",
   "nbconvert_exporter": "python",
   "pygments_lexer": "ipython2",
   "version": "2.7.6"
  }
 },
 "nbformat": 4,
 "nbformat_minor": 5
}
