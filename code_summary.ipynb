{
 "cells": [
  {
   "metadata": {},
   "cell_type": "markdown",
   "source": "# logistic model",
   "id": "87c0ce45abd6a689"
  },
  {
   "metadata": {
    "ExecuteTime": {
     "end_time": "2025-10-22T17:43:53.137823Z",
     "start_time": "2025-10-22T17:43:51.666803Z"
    }
   },
   "cell_type": "code",
   "source": [
    "# importieren (Pandas, Matplotlib, Scikit-Learn)\n",
    "import pandas as pd, matplotlib.pyplot as plt\n",
    "from sklearn.linear_model import LogisticRegression\n",
    "from sklearn.metrics import confusion_matrix, accuracy_score\n",
    "from sklearn.metrics import ConfusionMatrixDisplay\n"
   ],
   "id": "c95b1652f8ee787b",
   "outputs": [],
   "execution_count": 1
  },
  {
   "metadata": {},
   "cell_type": "code",
   "source": [
    "# Daten einlesen\n",
    "df = pd.read_csv(\"creditcard.csv\", converters={\"CreditCard\": lambda x: 1 if x==\"Yes\" else 0})\n",
    "\n",
    "# Scatterplot\n",
    "plt.scatter(df[\"Age\"], df[\"CreditCard\"])\n",
    "plt.xlabel(\"Alter\")\n",
    "plt.ylabel(\"Kreditkarte (0/1)\")\n"
   ],
   "id": "e66729b94a97138a",
   "outputs": [],
   "execution_count": null
  },
  {
   "metadata": {},
   "cell_type": "code",
   "source": [
    "# Modell finden/ Parameter finden\n",
    "\n",
    "m = LogisticRegression(C=1e9, solver=\"lbfgs\").fit(df[[\"Age\"]], df[\"CreditCard\"]) # c=1e9 C istRegularisierung -> hier keine R. da 1e9 sehr hoch\n",
    "print(m.intercept_[0], m.coef_[0,0])\n",
    "\n",
    "# c=1e9 C istRegularisierung -> hier keine R. da 1e9 sehr hoch\n",
    "#\"lbfgs\" Optimierungsverfahren, das Maximum-Likelihood-Schätzungen berechnet."
   ],
   "id": "904482744e99d371",
   "outputs": [],
   "execution_count": null
  },
  {
   "metadata": {},
   "cell_type": "code",
   "source": [
    "#Log funktion darstellen mit geglätteter kurve\n",
    "\n",
    "plt.scatter(df[\"Age\"], df[\"CreditCard\"])\n",
    "s = df[[\"Age\"]].sort_values(\"Age\")           # hier x-wert verwenden (s= age_sorted nach Grösse für eine glatte Linie)\n",
    "plt.plot(s[\"Age\"], m.predict_proba(s)[:,1], color=\"red\") # [:,1] y =1 -> so stehen lassen, solange wir nur 2 Klassen modellieren\n",
    "\n"
   ],
   "id": "2871f3d0a0535eed",
   "outputs": [],
   "execution_count": null
  },
  {
   "metadata": {},
   "cell_type": "code",
   "source": [
    "# spez. π /Prob berechnen\n",
    "m.predict_proba(pd.DataFrame({\"Age\":[80]}))[:,1]"
   ],
   "id": "8d5930b0a6f33f42",
   "outputs": [],
   "execution_count": null
  },
  {
   "metadata": {},
   "cell_type": "code",
   "source": [
    "# Klassifikationsmatrik /confusion matrix\n",
    "\n",
    "yhat = (m.predict_proba(df[[\"Age\"]])[:,1] >= 0.5).astype(int)\n",
    "ConfusionMatrixDisplay.from_predictions(df[\"CreditCard\"], yhat, display_labels=[0, 1])"
   ],
   "id": "1031d858620968bc",
   "outputs": [],
   "execution_count": null
  },
  {
   "metadata": {},
   "cell_type": "code",
   "source": [
    "# Accuracy/ Prozentsatz korrekt klassifizierter Beobachtungen\n",
    "yhat = (m.predict_proba(df[[\"Age\"]])[:,1] >= 0.5).astype(int)\n",
    "confusion_matrix(df[\"CreditCard\"], yhat)"
   ],
   "id": "9fa4eb82eafe4342",
   "outputs": [],
   "execution_count": null
  },
  {
   "metadata": {},
   "cell_type": "markdown",
   "source": [
    "---\n",
    "# linear model"
   ],
   "id": "e3d5f49d8c6fd18b"
  },
  {
   "metadata": {
    "ExecuteTime": {
     "end_time": "2025-10-22T17:43:54.984820Z",
     "start_time": "2025-10-22T17:43:54.714506Z"
    }
   },
   "cell_type": "code",
   "source": [
    "import pandas as pd\n",
    "import matplotlib.pyplot as plt\n",
    "from sklearn.linear_model import LinearRegression\n",
    "import statsmodels.api as sm\n"
   ],
   "id": "373e43624d20e629",
   "outputs": [],
   "execution_count": 2
  },
  {
   "metadata": {
    "ExecuteTime": {
     "end_time": "2025-10-22T17:43:57.826565Z",
     "start_time": "2025-10-22T17:43:57.818262Z"
    }
   },
   "cell_type": "code",
   "source": "df = pd.read_csv('autos-1647012077(1).csv')",
   "id": "e9d5aefe40545094",
   "outputs": [],
   "execution_count": 3
  },
  {
   "metadata": {},
   "cell_type": "code",
   "source": [
    "\n",
    "# Scatterplot/ Variabeln im Verhältnis\n",
    "plt.scatter(df['geschwindigkeit'], df['distanz'])"
   ],
   "id": "42e266b61d69eada",
   "outputs": [],
   "execution_count": null
  },
  {
   "metadata": {
    "ExecuteTime": {
     "end_time": "2025-10-22T17:44:00.633090Z",
     "start_time": "2025-10-22T17:44:00.621381Z"
    }
   },
   "cell_type": "code",
   "source": [
    "# Fitting Model für lineare Regression\n",
    "\n",
    "\n",
    "m = LinearRegression().fit(df[['geschwindigkeit']], df['distanz']) # fit berechnet optimal weights b0, b1 -> fits the model\n",
    "print(m.intercept_, m.coef_[0])"
   ],
   "id": "d9ed14b536ff4897",
   "outputs": [
    {
     "name": "stdout",
     "output_type": "stream",
     "text": [
      "-22.91255308461573 4.2695556874743135\n"
     ]
    }
   ],
   "execution_count": 4
  },
  {
   "metadata": {},
   "cell_type": "code",
   "source": [
    "# Regressionsgerade und Daten zusammen\n",
    "\n",
    "plt.scatter(df['geschwindigkeit'], df['distanz'])\n",
    "plt.plot(df['geschwindigkeit'], m.predict(df[['geschwindigkeit']]), color='red')"
   ],
   "id": "6529d472503cb7eb",
   "outputs": [],
   "execution_count": null
  },
  {
   "metadata": {
    "ExecuteTime": {
     "end_time": "2025-10-22T17:44:05.816852Z",
     "start_time": "2025-10-22T17:44:05.804183Z"
    }
   },
   "cell_type": "code",
   "source": [
    "# Qualität des Models\n",
    "# R^2\n",
    "\n",
    "m.score(df[['geschwindigkeit']], df['distanz'])"
   ],
   "id": "5d082a31d1ead16d",
   "outputs": [
    {
     "data": {
      "text/plain": [
       "0.8243250457863955"
      ]
     },
     "execution_count": 5,
     "metadata": {},
     "output_type": "execute_result"
    }
   ],
   "execution_count": 5
  },
  {
   "metadata": {
    "ExecuteTime": {
     "end_time": "2025-10-22T17:45:24.527458Z",
     "start_time": "2025-10-22T17:45:24.520653Z"
    }
   },
   "cell_type": "code",
   "source": [
    "# resudien berechnen und plotten\n",
    "\n",
    "#\n",
    "\n",
    "yhat = m.predict(df[['geschwindigkeit']])\n",
    "resid = df['distanz'] - yhat"
   ],
   "id": "cd9bda57ba66ba4e",
   "outputs": [
    {
     "ename": "SyntaxError",
     "evalue": "invalid syntax. Perhaps you forgot a comma? (3740366888.py, line 7)",
     "output_type": "error",
     "traceback": [
      "  \u001B[36mCell\u001B[39m\u001B[36m \u001B[39m\u001B[32mIn[9]\u001B[39m\u001B[32m, line 7\u001B[39m\n\u001B[31m    \u001B[39m\u001B[31myhat = m.predict(df[])\u001B[39m\n                     ^\n\u001B[31mSyntaxError\u001B[39m\u001B[31m:\u001B[39m invalid syntax. Perhaps you forgot a comma?\n"
     ]
    }
   ],
   "execution_count": 9
  },
  {
   "metadata": {
    "ExecuteTime": {
     "end_time": "2025-10-22T17:44:24.798902Z",
     "start_time": "2025-10-22T17:44:24.703282Z"
    }
   },
   "cell_type": "code",
   "source": [
    " # Tukey-Anscombe-Diagramm\n",
    "\n",
    "plt.scatter(yhat, resid)\n",
    "plt.axhline(0, color='black')\n",
    " # Tukey-Anscombe-Diagramm"
   ],
   "id": "ece362417c45c608",
   "outputs": [
    {
     "data": {
      "text/plain": [
       "<matplotlib.lines.Line2D at 0x1e1055ada90>"
      ]
     },
     "execution_count": 7,
     "metadata": {},
     "output_type": "execute_result"
    },
    {
     "data": {
      "text/plain": [
       "<Figure size 640x480 with 1 Axes>"
      ],
      "image/png": "[encoded data removed]"
     },
     "metadata": {},
     "output_type": "display_data"
    }
   ],
   "execution_count": 7
  },
  {
   "metadata": {},
   "cell_type": "code",
   "source": [
    "\n",
    "plt.scatter(df['geschwindigkeit'], resid)\n",
    "plt.axhline(0, color='black')\n"
   ],
   "id": "34763bb3a1ccf49",
   "outputs": [],
   "execution_count": null
  },
  {
   "metadata": {},
   "cell_type": "code",
   "source": [
    "\n",
    "\n",
    "plt.hist(resid)\n",
    "plt.show()"
   ],
   "id": "c7f8b462e98eb9b7",
   "outputs": [],
   "execution_count": null
  },
  {
   "metadata": {},
   "cell_type": "code",
   "source": [
    "yhat = m.predict(df[['geschwindigkeit']])\n",
    "resid = df['distanz'] - yhat\n",
    "plt.hist(resid)\n",
    "plt.show()"
   ],
   "id": "8c9cec47f677a91",
   "outputs": [],
   "execution_count": null
  },
  {
   "metadata": {},
   "cell_type": "markdown",
   "source": [
    " Residuentest händisch, Ziel: Modellannahmen prüfen\n",
    "1. Tukey-Anscombe-Diagramm\n",
    "    Punktewolke, gleichbreites Band ohne Muster-> Modell verwendbar, liefert zuverlässige Werte\n",
    "    Muster / Trend / Trichter → Modell verletzt Annahmen\n",
    "        - Trichterfomr → Varianz nicht konstant → Zielvariable transformieren (z. B. log y)\n",
    "        - Krümmung → Beziehung nicht linear → Prädiktor transformieren (z. B. x², log x)\n",
    "\n",
    "\n",
    "2. Histo Residuen\n",
    " - Normal -> gut, t-/F-test und p_werte zulässig\n",
    " - nicht -> t-/F-test und p_werte nicht zulässig\n",
    "        - Mehr Daten prüfen / Ausreisser prüfen\n",
    "        - Transformation der Zielvariable (log(y), √y)\n",
    "\n",
    "\n"
   ],
   "id": "12ed2495c9f15ff5"
  }
 ],
 "metadata": {
  "kernelspec": {
   "display_name": "Python 3",
   "language": "python",
   "name": "python3"
  },
  "language_info": {
   "codemirror_mode": {
    "name": "ipython",
    "version": 2
   },
   "file_extension": ".py",
   "mimetype": "text/x-python",
   "name": "python",
   "nbconvert_exporter": "python",
   "pygments_lexer": "ipython2",
   "version": "2.7.6"
  }
 },
 "nbformat": 4,
 "nbformat_minor": 5
}
