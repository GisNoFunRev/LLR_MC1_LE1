{
 "cells": [
  {
   "cell_type": "markdown",
   "id": "624d181c",
   "metadata": {},
   "source": [
    "# FS24_Titanic — Lösung (Python)\n",
    "\n",
    "*Schema: Aufgabenbeschrieb → Lösungsansatz & Erklärung → Code → Erklärung Output → Nächste Aufgabe*"
   ]
  },
  {
   "cell_type": "markdown",
   "id": "af2420bc",
   "metadata": {},
   "source": [
    "## Aufgabe 1\n",
    "\n",
    "**Aufgabenbeschrieb**\n",
    "\n",
    "Daten einlesen; zwei Grafiken: **Survived** ~ **Fare** und **Survived** ~ **Sex**.\n",
    "\n",
    "**Lösungsansatz & Erklärung**\n",
    "\n",
    "Scatter für Fare vs Survived; Balken/Bar für Sex vs mittlere Überlebensrate."
   ]
  },
  {
   "cell_type": "code",
   "id": "6721a482",
   "metadata": {
    "ExecuteTime": {
     "end_time": "2025-10-17T16:41:52.660192Z",
     "start_time": "2025-10-17T16:41:52.622400Z"
    }
   },
   "source": [
    "import pandas as pd\n",
    "import matplotlib.pyplot as plt\n",
    "df = pd.read_csv(\"/mnt/data/titanic-1717165010.csv\")\n",
    "df['Sex_bin'] = (df['Sex'].str.lower().map({'male':0,'female':1})).astype(int)\n",
    "# Plot 1: Fare vs Survived\n",
    "plt.figure(); plt.scatter(df['Fare'], df['Survived'], alpha=0.2); plt.xlabel('Fare'); plt.ylabel('Survived')\n",
    "# Plot 2: Sex vs mean Survived\n",
    "df.groupby('Sex')['Survived'].mean().plot(kind='bar'); plt.ylabel('mean Survived')"
   ],
   "outputs": [
    {
     "ename": "ModuleNotFoundError",
     "evalue": "No module named 'pandas'",
     "output_type": "error",
     "traceback": [
      "\u001B[31m---------------------------------------------------------------------------\u001B[39m",
      "\u001B[31mModuleNotFoundError\u001B[39m                       Traceback (most recent call last)",
      "\u001B[36mCell\u001B[39m\u001B[36m \u001B[39m\u001B[32mIn[3]\u001B[39m\u001B[32m, line 1\u001B[39m\n\u001B[32m----> \u001B[39m\u001B[32m1\u001B[39m \u001B[38;5;28;01mimport\u001B[39;00m\u001B[38;5;250m \u001B[39m\u001B[34;01mpandas\u001B[39;00m\u001B[38;5;250m \u001B[39m\u001B[38;5;28;01mas\u001B[39;00m\u001B[38;5;250m \u001B[39m\u001B[34;01mpd\u001B[39;00m\n\u001B[32m      2\u001B[39m \u001B[38;5;28;01mimport\u001B[39;00m\u001B[38;5;250m \u001B[39m\u001B[34;01mmatplotlib\u001B[39;00m\u001B[34;01m.\u001B[39;00m\u001B[34;01mpyplot\u001B[39;00m\u001B[38;5;250m \u001B[39m\u001B[38;5;28;01mas\u001B[39;00m\u001B[38;5;250m \u001B[39m\u001B[34;01mplt\u001B[39;00m\n\u001B[32m      3\u001B[39m df = pd.read_csv(\u001B[33m\"\u001B[39m\u001B[33m/mnt/data/titanic-1717165010.csv\u001B[39m\u001B[33m\"\u001B[39m)\n",
      "\u001B[31mModuleNotFoundError\u001B[39m: No module named 'pandas'"
     ]
    }
   ],
   "execution_count": 3
  },
  {
   "cell_type": "markdown",
   "id": "e680fa3a",
   "metadata": {},
   "source": [
    "**Erklärung Output**\n",
    "\n",
    "Grafik 1 zeigt Zusammenhang mit Preis; Grafik 2 die mittlere Überlebensrate je Geschlecht.\n",
    "\n",
    "---\n",
    "*Nächste Aufgabe →*"
   ]
  },
  {
   "cell_type": "markdown",
   "id": "98ec440d",
   "metadata": {},
   "source": [
    "## Aufgabe 2\n",
    "\n",
    "**Aufgabenbeschrieb**\n",
    "\n",
    "Zwei logistische Modelle (Survived ~ Fare) und (Survived ~ Sex_bin). Gleichungen angeben.\n",
    "\n",
    "**Lösungsansatz & Erklärung**\n",
    "\n",
    "Zweimal statsmodels.Logit mit Intercept; Parameter in b0/b1 ablesen."
   ]
  },
  {
   "cell_type": "code",
   "execution_count": null,
   "id": "fb599186",
   "metadata": {},
   "outputs": [],
   "source": [
    "import statsmodels.api as sm\n",
    "# Modell A: Fare\n",
    "Xa = sm.add_constant(df[['Fare']]); ya = df['Survived'].astype(int)\n",
    "logit_fare = sm.Logit(ya, Xa).fit(disp=False); logit_fare.params\n",
    "# Modell B: Sex_bin\n",
    "Xb = sm.add_constant(df[['Sex_bin']]); yb = df['Survived'].astype(int)\n",
    "logit_sex = sm.Logit(yb, Xb).fit(disp=False); logit_sex.params"
   ]
  },
  {
   "cell_type": "markdown",
   "id": "50321958",
   "metadata": {},
   "source": [
    "**Erklärung Output**\n",
    "\n",
    "Form: log(p/(1-p)) = b0 + b1*x. Für Sex_bin ist b1 typischerweise stark positiv.\n",
    "\n",
    "---\n",
    "*Nächste Aufgabe →*"
   ]
  },
  {
   "cell_type": "markdown",
   "id": "4257b7e9",
   "metadata": {},
   "source": [
    "## Aufgabe 3\n",
    "\n",
    "**Aufgabenbeschrieb**\n",
    "\n",
    "Wahrscheinlichkeit, dass eine Frau überlebt hat.\n",
    "\n",
    "**Lösungsansatz & Erklärung**\n",
    "\n",
    "Mit Sex_bin=1 in Modell B einsetzen."
   ]
  },
  {
   "cell_type": "code",
   "execution_count": null,
   "id": "1639d9e2",
   "metadata": {},
   "outputs": [],
   "source": [
    "import pandas as pd\n",
    "xf = sm.add_constant(pd.DataFrame({'Sex_bin':[1]}))\n",
    "pf = float(logit_sex.predict(xf)); pf, round(100*pf,2)"
   ]
  },
  {
   "cell_type": "markdown",
   "id": "5fed2846",
   "metadata": {},
   "source": [
    "**Erklärung Output**\n",
    "\n",
    "Prozentwert im Prüfungsbogen angeben.\n",
    "\n",
    "---\n",
    "*Nächste Aufgabe →*"
   ]
  },
  {
   "cell_type": "markdown",
   "id": "89f4bc00",
   "metadata": {},
   "source": [
    "## Aufgabe 4\n",
    "\n",
    "**Aufgabenbeschrieb**\n",
    "\n",
    "Konfusionsmatrizen für beide Modelle (Schwelle 0.5) + Accuracy.\n",
    "\n",
    "**Lösungsansatz & Erklärung**\n",
    "\n",
    "Mit sklearn für beide Modelle separat berechnen."
   ]
  },
  {
   "cell_type": "code",
   "execution_count": null,
   "id": "7a0891d3",
   "metadata": {},
   "outputs": [],
   "source": [
    "from sklearn.metrics import confusion_matrix, accuracy_score\n",
    "# Fare\n",
    "pa = logit_fare.predict(Xa); yha = (pa>=0.5).astype(int)\n",
    "cma = confusion_matrix(ya, yha); acca = accuracy_score(ya, yha)\n",
    "# Sex\n",
    "pb = logit_sex.predict(Xb); yhb = (pb>=0.5).astype(int)\n",
    "cmb = confusion_matrix(yb, yhb); accb = accuracy_score(yb, yhb)\n",
    "cma, acca, cmb, accb"
   ]
  },
  {
   "cell_type": "markdown",
   "id": "443f5d47",
   "metadata": {},
   "source": [
    "**Erklärung Output**\n",
    "\n",
    "Tabellen sauber als TP/FP/FN/TN interpretieren; Accuracy vergleichen.\n",
    "\n",
    "---\n",
    "*Nächste Aufgabe →*"
   ]
  },
  {
   "cell_type": "markdown",
   "id": "7ee2a414",
   "metadata": {},
   "source": [
    "## Aufgabe 5\n",
    "\n",
    "**Aufgabenbeschrieb**\n",
    "\n",
    "Interpretation: Welches Modell ist besser? Kann man so das Überleben vorhersagen?\n",
    "\n",
    "**Lösungsansatz & Erklärung**\n",
    "\n",
    "Vergleiche Accuracy (& ggf. Precision/Recall). Beachte ethische Aspekte und Modellgrenzen."
   ]
  },
  {
   "cell_type": "code",
   "execution_count": null,
   "id": "ccb46283",
   "metadata": {},
   "outputs": [],
   "source": [
    "from sklearn.metrics import classification_report\n",
    "print('Fare model:\\n', classification_report(ya, yha))\n",
    "print('Sex model:\\n', classification_report(yb, yhb))"
   ]
  },
  {
   "cell_type": "markdown",
   "id": "7d314972",
   "metadata": {},
   "source": [
    "**Erklärung Output**\n",
    "\n",
    "Begründen: Modell mit höherer Accuracy/Recall sinnvoller; aber **ein Feature** ist limitierend.\n",
    "\n",
    "---\n",
    "*Nächste Aufgabe →*"
   ]
  }
 ],
 "metadata": {
  "kernelspec": {
   "name": "python3",
   "language": "python",
   "display_name": "Python 3 (ipykernel)"
  }
 },
 "nbformat": 4,
 "nbformat_minor": 5
}
