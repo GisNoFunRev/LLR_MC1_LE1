{
 "cells": [
  {
   "cell_type": "markdown",
   "id": "f06c07d7",
   "metadata": {},
   "source": [
    "# HS21_Autos — Lösung (Python)\n",
    "\n",
    "*Schema: Aufgabenbeschrieb → Lösungsansatz & Erklärung → Code → Erklärung Output → Nächste Aufgabe*"
   ]
  },
  {
   "cell_type": "markdown",
   "id": "f9a0b072",
   "metadata": {},
   "source": [
    "## Aufgabe 1\n",
    "\n",
    "**Aufgabenbeschrieb**\n",
    "\n",
    "Daten einlesen und Scatterplot **Bremsweg (distance)** gegen **Geschwindigkeit (geschwindigkeit)**.\n",
    "\n",
    "**Lösungsansatz & Erklärung**\n",
    "\n",
    "Wir lesen mit pandas ein und nutzen matplotlib für den Scatter. Achsen korrekt beschriften."
   ]
  },
  {
   "cell_type": "code",
   "execution_count": null,
   "id": "7683c2d8",
   "metadata": {},
   "outputs": [],
   "source": [
    "import pandas as pd, matplotlib.pyplot as plt\n",
    "df = pd.read_csv(\"/mnt/data/autos-1647012077(1).csv\")\n",
    "y = 'distance'; X = 'geschwindigkeit'\n",
    "df.head()\n",
    "plt.figure(); plt.scatter(df[X], df[y], alpha=0.7); plt.xlabel(X); plt.ylabel(y)"
   ]
  },
  {
   "cell_type": "markdown",
   "id": "f8fe364d",
   "metadata": {},
   "source": [
    "**Erklärung Output**\n",
    "\n",
    "Der Plot zeigt die (ungefähre) lineare Beziehung; Ausreisser sind erkennbar.\n",
    "\n",
    "---\n",
    "*Nächste Aufgabe →*"
   ]
  },
  {
   "cell_type": "markdown",
   "id": "fa778541",
   "metadata": {},
   "source": [
    "## Aufgabe 2\n",
    "\n",
    "**Aufgabenbeschrieb**\n",
    "\n",
    "Lineare Regression und Modellgleichung angeben.\n",
    "\n",
    "**Lösungsansatz & Erklärung**\n",
    "\n",
    "Wir verwenden **statsmodels.OLS** mit Intercept (add_constant)."
   ]
  },
  {
   "cell_type": "code",
   "execution_count": null,
   "id": "d21675f9",
   "metadata": {},
   "outputs": [],
   "source": [
    "import statsmodels.api as sm\n",
    "Xmat = sm.add_constant(df[['geschwindigkeit']])\n",
    "yvec = df['distance']\n",
    "model = sm.OLS(yvec, Xmat).fit()\n",
    "model.params, model.rsquared, model.summary()"
   ]
  },
  {
   "cell_type": "markdown",
   "id": "5ff755a2",
   "metadata": {},
   "source": [
    "**Erklärung Output**\n",
    "\n",
    "Die Parameter liefern b0 (Intercept) und b1 (Steigung). R² bewertet die erklärte Varianz.\n",
    "\n",
    "---\n",
    "*Nächste Aufgabe →*"
   ]
  },
  {
   "cell_type": "markdown",
   "id": "3fb4dce3",
   "metadata": {},
   "source": [
    "## Aufgabe 3\n",
    "\n",
    "**Aufgabenbeschrieb**\n",
    "\n",
    "Regressionsgerade zusammen mit den Daten darstellen.\n",
    "\n",
    "**Lösungsansatz & Erklärung**\n",
    "\n",
    "Vorhersage für beobachtete X und Linie zeichnen."
   ]
  },
  {
   "cell_type": "code",
   "execution_count": null,
   "id": "1db6a439",
   "metadata": {},
   "outputs": [],
   "source": [
    "yhat = model.predict(Xmat)\n",
    "plt.figure(); plt.scatter(df['geschwindigkeit'], df['distance'], alpha=0.3)\n",
    "plt.plot(df['geschwindigkeit'], yhat, linestyle='--')\n",
    "plt.xlabel('geschwindigkeit'); plt.ylabel('distance')"
   ]
  },
  {
   "cell_type": "markdown",
   "id": "5bf1e88d",
   "metadata": {},
   "source": [
    "**Erklärung Output**\n",
    "\n",
    "Die gestrichelte Linie ist die Regressionsgerade ŷ = b0 + b1*x.\n",
    "\n",
    "---\n",
    "*Nächste Aufgabe →*"
   ]
  },
  {
   "cell_type": "markdown",
   "id": "e7e262d6",
   "metadata": {},
   "source": [
    "## Aufgabe 4\n",
    "\n",
    "**Aufgabenbeschrieb**\n",
    "\n",
    "R² berechnen und Qualität in Worten bewerten.\n",
    "\n",
    "**Lösungsansatz & Erklärung**\n",
    "\n",
    "R² aus dem Modellobjekt; kurze Bewertung (z. B. >0.7 gut, 0.4–0.7 mittel, <0.4 schwach – kontextabhängig)."
   ]
  },
  {
   "cell_type": "code",
   "execution_count": null,
   "id": "255efd20",
   "metadata": {},
   "outputs": [],
   "source": [
    "R2 = model.rsquared; R2"
   ]
  },
  {
   "cell_type": "markdown",
   "id": "554c55ae",
   "metadata": {},
   "source": [
    "**Erklärung Output**\n",
    "\n",
    "R² = Anteil der durch das Modell erklärten Variation. Bewertung textlich im Prüfungsbogen ergänzen.\n",
    "\n",
    "---\n",
    "*Nächste Aufgabe →*"
   ]
  },
  {
   "cell_type": "markdown",
   "id": "d046f979",
   "metadata": {},
   "source": [
    "## Aufgabe 5\n",
    "\n",
    "**Aufgabenbeschrieb**\n",
    "\n",
    "Residuen berechnen und plotten.\n",
    "\n",
    "**Lösungsansatz & Erklärung**\n",
    "\n",
    "Residuen e = y - ŷ, gegen X streuen und Histogramm prüfen."
   ]
  },
  {
   "cell_type": "code",
   "execution_count": null,
   "id": "36b37db2",
   "metadata": {},
   "outputs": [],
   "source": [
    "res = yvec - yhat\n",
    "plt.figure(); plt.scatter(df['geschwindigkeit'], res); plt.axhline(0, ls='--')\n",
    "plt.xlabel('geschwindigkeit'); plt.ylabel('residuals')\n",
    "plt.figure(); plt.hist(res, bins=20); plt.xlabel('residuals')"
   ]
  },
  {
   "cell_type": "markdown",
   "id": "febbc0d2",
   "metadata": {},
   "source": [
    "**Erklärung Output**\n",
    "\n",
    "Erwartung: Mittelwert nahe 0, keine systematische U-Form; Histogramm annähernd normal.\n",
    "\n",
    "---\n",
    "*Nächste Aufgabe →*"
   ]
  },
  {
   "cell_type": "markdown",
   "id": "b0603208",
   "metadata": {},
   "source": [
    "## Aufgabe 6\n",
    "\n",
    "**Aufgabenbeschrieb**\n",
    "\n",
    "Residuentest/Beurteilung und Schlussfolgerung/Modellanpassung.\n",
    "\n",
    "**Lösungsansatz & Erklärung**\n",
    "\n",
    "Qualitativ: Normalität (Histogramm), Erwartungswert≈0, keine Systematik. Falls U‑Form → Transformation (z. B. sqrt(y))."
   ]
  },
  {
   "cell_type": "code",
   "execution_count": null,
   "id": "ab2c2b54",
   "metadata": {},
   "outputs": [],
   "source": [
    "res.mean(), res.std()"
   ]
  },
  {
   "cell_type": "markdown",
   "id": "e4f42210",
   "metadata": {},
   "source": [
    "**Erklärung Output**\n",
    "\n",
    "Wenn deutliche U‑Form → lineares Modell unpassend; Transformation (z. B. sqrt(distance)) oder polynomialsiche Terme.\n",
    "\n",
    "---\n",
    "*Nächste Aufgabe →*"
   ]
  }
 ],
 "metadata": {},
 "nbformat": 4,
 "nbformat_minor": 5
}
