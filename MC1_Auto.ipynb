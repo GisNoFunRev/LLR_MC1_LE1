{
 "cells": [
  {
   "metadata": {},
   "cell_type": "markdown",
   "source": [
    "\n",
    "\n",
    "**LLR_MC1+Lösung(auto)_HS2021**"
   ],
   "id": "f98617ce77a0fbdc"
  },
  {
   "metadata": {},
   "cell_type": "markdown",
   "source": [
    "## Aufgabe 1a – Daten einlesen & Scatterplot\n",
    "\n",
    "**(2 P)**\n",
    "Lesen Sie die Datei `autos.csv` in Python ein und stellen Sie den **Bremsweg** abhängig von der **Geschwindigkeit** grafisch dar.\n",
    "\n",
    "---\n",
    "\n",
    "### Theorie (aus dem Vorlesungsskript)\n",
    "\n",
    "Im Skript *„Lineare und logistische Regression“* (Kapitel 1: Lineare Modelle) wird die Beziehung zwischen einer erklärenden und einer Zielvariable als\n",
    "\n",
    "$$\n",
    "y_i = \\alpha + \\beta x_i + \\varepsilon_i\n",
    "$$\n",
    "\n",
    "beschrieben.\n",
    "\n",
    "**Bedeutung der Terme:**\n",
    "- $y_i$: abhängige Variable → hier *Bremsweg* (`distanz`)\n",
    "- $x_i$: unabhängige Variable → hier *Geschwindigkeit* (`geschwindigkeit`)\n",
    "- $\\alpha$: Achsenabschnitt – Bremsweg bei 0 km/h\n",
    "- $\\beta$: Steigung – Zunahme des Bremswegs pro km/h\n",
    "- $\\varepsilon_i$: Fehler – zufällige Abweichungen, erwartet $E[\\varepsilon_i]=0$\n",
    "\n",
    "Bevor man dieses lineare Modell schätzt, **prüft man visuell**, ob ein annähernd linearer Zusammenhang plausibel ist.\n",
    "Der **Scatterplot** zeigt, ob:\n",
    "- der Trend steigend ist (positiver $\\beta$),\n",
    "- die Punkte etwa auf einer Geraden liegen,\n",
    "- eine Krümmung oder Trichterform auftritt → Hinweis auf Nichtlinearität oder Heteroskedastizität,\n",
    "- Ausreisser vorhanden sind.\n",
    "\n",
    "Physikalisch gilt: der Bremsweg wächst näherungsweise **quadratisch** mit der Geschwindigkeit\n",
    "\n",
    "$$\n",
    "s \\propto v^2\n",
    "$$\n",
    "\n",
    "Ein leicht nach oben gekrümmter Trend ist also normal, aber das lineare Modell $y=\\alpha+\\beta x$ bleibt eine sinnvolle erste Annäherung.\n",
    "\n",
    "---\n",
    "\n",
    "### Lösungsansatz\n",
    "\n",
    "Ziel: **so wenig Code wie möglich**, aber volle Aufgabenabdeckung.\n",
    "Die Daten sind sauber, also kein NaN-Handling oder Spalten-Guessing nötig.\n",
    "\n",
    "Verwendete Befehle:\n",
    "- `pd.read_csv()` → lädt CSV-Datei in DataFrame\n",
    "- `plt.scatter(x, y)` → erzeugt Streudiagramm\n",
    "\n",
    "Damit ist die Aufgabe vollständig erfüllt."
   ],
   "id": "d8019ef93f61cca3"
  },
  {
   "metadata": {
    "ExecuteTime": {
     "end_time": "2025-10-18T13:57:07.624602Z",
     "start_time": "2025-10-18T13:57:06.126785Z"
    }
   },
   "cell_type": "code",
   "source": [
    "#sklearn\n",
    "\n",
    "import pandas as pd\n",
    "import matplotlib.pyplot as plt\n",
    "from sklearn.linear_model import LinearRegression\n",
    "import statsmodels.api as sm\n",
    "\n"
   ],
   "id": "dce3ecd06e7d1ea3",
   "outputs": [],
   "execution_count": 1
  },
  {
   "metadata": {
    "ExecuteTime": {
     "end_time": "2025-10-18T13:57:07.743724Z",
     "start_time": "2025-10-18T13:57:07.629899Z"
    }
   },
   "cell_type": "code",
   "source": [
    "#sklearn\n",
    "\n",
    "df = pd.read_csv('autos-1647012077(1).csv')\n",
    "plt.scatter(df['geschwindigkeit'], df['distanz'])\n"
   ],
   "id": "8fa107437e12b9a9",
   "outputs": [
    {
     "data": {
      "text/plain": [
       "<matplotlib.collections.PathCollection at 0x1f59265cad0>"
      ]
     },
     "execution_count": 2,
     "metadata": {},
     "output_type": "execute_result"
    },
    {
     "data": {
      "text/plain": [
       "<Figure size 640x480 with 1 Axes>"
      ],
      "image/png": "[encoded data removed]"
     },
     "metadata": {},
     "output_type": "display_data"
    }
   ],
   "execution_count": 2
  },
  {
   "metadata": {},
   "cell_type": "markdown",
   "source": [
    "\n",
    "---\n",
    "\n",
    "### Erklärung des Outputs\n",
    "\n",
    "Der Scatterplot zeigt:\n",
    "\n",
    "- **positiven Trend:** Bremsweg steigt mit Geschwindigkeit\n",
    "- **leichte Krümmung:** Zunahme wird bei höherer Geschwindigkeit stärker → Hinweis auf $s \\propto v^2$\n",
    "- **keine Ausreisser, konstante Streuung:** lineares Modell plausibel\n",
    "\n",
    "**Kurzinterpretation (prüfungsnotizfähig):**\n",
    "> „Scatterplot zeigt klar steigenden Trend mit leichter Krümmung → lineare Annäherung brauchbar, aber evtl. quadratischer Zusammenhang (Bremsenergie ∝ v²).“\n"
   ],
   "id": "d2c625de3e911d5b"
  },
  {
   "metadata": {},
   "cell_type": "markdown",
   "source": [
    "---\n",
    "---\n",
    "\n",
    "## Aufgabe 1b – Lineare Regression (OLS): Gleichung angeben\n",
    "\n",
    "**(2 P)**\n",
    "Führen Sie eine **lineare Regression** durch, um ein Modell für den Bremsweg zu finden.\n",
    "Geben Sie die gefundene **Gleichung** an.\n",
    "\n",
    "---\n",
    "\n",
    "### Theorie (aus dem Vorlesungsskript)\n",
    "\n",
    "Wir modellieren den Zusammenhang zwischen Geschwindigkeit $x$ und Bremsweg $y$ durch die **lineare Einfachregression**:\n",
    "\n",
    "$$\n",
    "y_i = \\alpha + \\beta x_i + \\varepsilon_i\n",
    "$$\n",
    "\n",
    "Die **Methode der kleinsten Quadrate (OLS)** bestimmt $\\alpha,\\beta$ so, dass die Summe der quadrierten Abweichungen minimiert wird:\n",
    "\n",
    "$$\n",
    "\\min_{\\alpha,\\beta}\\ \\sum_{i=1}^{n} \\big(y_i - (\\alpha + \\beta x_i)\\big)^2\n",
    "$$\n",
    "\n",
    "Die geschätzten Koeffizienten lauten:\n",
    "\n",
    "$$\n",
    "\\hat\\beta = \\frac{\\sum_i (x_i-\\bar x)(y_i-\\bar y)}{\\sum_i (x_i-\\bar x)^2},\n",
    "\\qquad\n",
    "\\hat\\alpha = \\bar y - \\hat\\beta\\,\\bar x\n",
    "$$\n",
    "\n",
    "Die **Regressionsgerade** ist:\n",
    "\n",
    "$$\n",
    "\\hat y = \\hat\\alpha + \\hat\\beta x\n",
    "$$\n",
    "\n",
    "**Interpretation:**\n",
    "- $\\hat\\alpha$ (Intercept): geschätzter Bremsweg bei $x=0$ (physikalisch hier nicht zentral).\n",
    "- $\\hat\\beta$ (Slope): **Zunahme** des Bremswegs pro km/h.\n",
    "\n",
    "---\n",
    "\n",
    "### Lösungsansatz (zwei Wege)\n",
    "\n",
    "**A) sklearn (minimal & schnell)**\n",
    "- `LinearRegression().fit(X, y)` mit `X = df[['geschwindigkeit']]`, `y = df['distanz']`.\n",
    "- Zugriff auf $\\hat\\alpha$ via `model.intercept_`, auf $\\hat\\beta$ via `model.coef_[0]`.\n",
    "- Gut für **kurzen Code** und 1b/1d.\n",
    "\n",
    "**B) statsmodels (inferenzfreundlich)**\n",
    "- `sm.OLS(y, sm.add_constant(X)).fit()`\n",
    "- `model.params` enthält $\\hat\\alpha,\\hat\\beta$; `model.summary()` liefert zusätzlich $R^2$, $p$-Werte, Durbin–Watson, usw.\n",
    "- Ideal, wenn du im Anschluss **Signifikanz/Diagnostik** (1f) brauchst."
   ],
   "id": "cc26613908445646"
  },
  {
   "metadata": {
    "ExecuteTime": {
     "end_time": "2025-10-18T13:57:07.895496Z",
     "start_time": "2025-10-18T13:57:07.888563Z"
    }
   },
   "cell_type": "code",
   "source": [
    "#sklearn\n",
    "\n",
    "\n",
    "m = LinearRegression().fit(df[['geschwindigkeit']], df['distanz'])\n",
    "print(m.intercept_, m.coef_[0])\n"
   ],
   "id": "b0e0c2708f1aa6c0",
   "outputs": [
    {
     "name": "stdout",
     "output_type": "stream",
     "text": [
      "-22.91255308461573 4.2695556874743135\n"
     ]
    }
   ],
   "execution_count": 3
  },
  {
   "metadata": {},
   "cell_type": "markdown",
   "source": [
    "---\n",
    "\n",
    "### Erklärung des Outputs\n",
    "\n",
    "Beide Varianten (`sklearn` und `statsmodels`) berechnen die Parameter $\\hat\\alpha$ und $\\hat\\beta$ der linearen Gleichung\n",
    "\n",
    "$$\n",
    "\\hat y = \\hat\\alpha + \\hat\\beta x\n",
    "$$\n",
    "\n",
    "**Interpretation der Ergebnisse:**\n",
    "\n",
    "- $\\hat\\beta$ (Steigung) ist **positiv** → der Bremsweg steigt mit zunehmender Geschwindigkeit.\n",
    "- $\\hat\\alpha$ (Achsenabschnitt) kann **negativ** sein – das ist kein Fehler, sondern eine Folge der linearen Extrapolation nahe $x=0$.\n",
    "- Der numerische Wert von $\\hat\\beta$ zeigt, **um wie viele Meter der Bremsweg pro zusätzlichem km/h** im Mittel zunimmt.\n",
    "\n",
    "**Kurznotiz (prüfungsreif):**\n",
    "> „$\\hat\\beta > 0$ → positiver Zusammenhang. Bremsweg steigt pro km/h um $\\hat\\beta$ m; negatives $\\hat\\alpha$ ist modellbedingt und physikalisch irrelevant.“\n"
   ],
   "id": "f406204f2db35f8c"
  },
  {
   "metadata": {},
   "cell_type": "markdown",
   "source": [
    "---\n",
    "---"
   ],
   "id": "79de244dda6865fc"
  },
  {
   "metadata": {},
   "cell_type": "markdown",
   "source": [
    "## Aufgabe 1c – Daten + Regressionsgerade plotten\n",
    "\n",
    "**(1 P)**\n",
    "Erstellen Sie eine zweite Grafik, in der die **Regressionsgerade** zusammen mit den Daten dargestellt ist.\n",
    "\n",
    "---\n",
    "\n",
    "### Theorie (aus dem Vorlesungsskript)\n",
    "\n",
    "Nach der Schätzung von $\\hat\\alpha$ und $\\hat\\beta$ lautet das lineare Modell\n",
    "\n",
    "$$\n",
    "\\hat y = \\hat\\alpha + \\hat\\beta x\n",
    "$$\n",
    "\n",
    "Die graphische Darstellung zeigt zwei Elemente:\n",
    "\n",
    "1. **Datenpunkte** $(x_i, y_i)$ → Streudiagramm (zeigt die empirische Beziehung)\n",
    "2. **Regressionsgerade** → zeigt den durch OLS geschätzten linearen Trend\n",
    "\n",
    "Im Skript („Lineare Regression – Beispiel Gehalt vs. Erfahrung“) wird genau dieses Prinzip illustriert:\n",
    "„Die Gerade durch die Daten zeigt den bestmöglichen linearen Zusammenhang nach der Methode der kleinsten Quadrate.“\n",
    "\n",
    "Mathematisch erzeugt man die geschätzten Werte $\\hat y_i$ durch Einsetzen von $x_i$ in die Schätzgleichung:\n",
    "\n",
    "$$\n",
    "\\hat y_i = \\hat\\alpha + \\hat\\beta x_i\n",
    "$$\n",
    "\n",
    "Die Gerade läuft durch den Schwerpunkt $(\\bar x, \\bar y)$ der Daten, weil OLS so konstruiert ist, dass die mittleren Residuen 0 sind.\n",
    "\n",
    "---\n",
    "\n",
    "### Lösungsansatz\n",
    "\n",
    "- Nutze denselben Datensatz und das bereits angepasste Modell aus 1b.\n",
    "- Erzeuge eine x-Spalte (`df['geschwindigkeit']`) und berechne die geschätzten $\\hat y$.\n",
    "- Zeichne die Punkte + Gerade in einer Grafik.\n",
    "- Verwende `plt.plot()` für die Gerade und `plt.scatter()` für die Daten."
   ],
   "id": "71a254a250ca5ce5"
  },
  {
   "metadata": {
    "ExecuteTime": {
     "end_time": "2025-10-18T13:57:07.997200Z",
     "start_time": "2025-10-18T13:57:07.926702Z"
    }
   },
   "cell_type": "code",
   "source": [
    "#sklearn\n",
    "\n",
    "\n",
    "plt.scatter(df['geschwindigkeit'], df['distanz'])\n",
    "plt.plot(df['geschwindigkeit'], m.predict(df[['geschwindigkeit']]), color='red')\n"
   ],
   "id": "85d74296e7774736",
   "outputs": [
    {
     "data": {
      "text/plain": [
       "[<matplotlib.lines.Line2D at 0x1f594958e10>]"
      ]
     },
     "execution_count": 5,
     "metadata": {},
     "output_type": "execute_result"
    },
    {
     "data": {
      "text/plain": [
       "<Figure size 640x480 with 1 Axes>"
      ],
      "image/png": "[encoded data removed]"
     },
     "metadata": {},
     "output_type": "display_data"
    }
   ],
   "execution_count": 5
  },
  {
   "metadata": {},
   "cell_type": "markdown",
   "source": [
    "\n",
    "---\n",
    "\n",
    "### Erklärung des Outputs\n",
    "\n",
    "Die Grafik zeigt die Datenpunkte und die bestangepasste Gerade:\n",
    "\n",
    "- **Gerade steigt mit x:** $\\hat\\beta > 0$ → klarer positiver Trend.\n",
    "- **Abweichungen verteilen sich zufällig um die Gerade:** keine systematischen Muster → lineares Modell passt grundlegend.\n",
    "- **Leichte Krümmung möglich:** zeigt, dass die physikalische Beziehung eher quadratisch ist, aber lineares Modell für erste Analyse ausreichend.\n",
    "\n",
    "**Kurznotiz (prüfungsreif):**\n",
    "> „Regressionsgerade zeigt klar positiven Zusammenhang; Residuen gleichmässig verteilt → lineares Modell grundlegend plausibel.“\n"
   ],
   "id": "e1e1eae83b927338"
  },
  {
   "metadata": {},
   "cell_type": "markdown",
   "source": [
    "---\n",
    "---\n",
    "## Aufgabe 1d – R² berechnen & Modellqualität bewerten\n",
    "\n",
    "**(2 P)**\n",
    "Berechnen Sie $R^2$ und bewerten Sie die Qualität des Modells in Worten.\n",
    "\n",
    "---\n",
    "\n",
    "### Theorie (aus dem Vorlesungsskript)\n",
    "\n",
    "Für die lineare Einfachregression $y_i = \\alpha + \\beta x_i + \\varepsilon_i$\n",
    "misst das **Bestimmtheitsmaß** $R^2$ den Anteil der durch das Modell erklärten Variation von $y$.\n",
    "\n",
    "**Zerlegung der Quadratsummen:**\n",
    "\n",
    "- Gesamtstreuung:\n",
    "  $$\n",
    "  \\mathrm{SST} = \\sum_{i=1}^n (y_i - \\bar y)^2\n",
    "  $$\n",
    "\n",
    "- Residuenstreuung:\n",
    "  $$\n",
    "  \\mathrm{SSE} = \\sum_{i=1}^n (y_i - \\hat y_i)^2\n",
    "  $$\n",
    "\n",
    "- Erklärte Streuung: $$\\mathrm{SSR} = \\mathrm{SST} - \\mathrm{SSE}$$\n",
    "\n",
    "**Bestimmtheitsmaß:**\n",
    "\n",
    "$$\n",
    "R^2 = 1 - \\frac{\\mathrm{SSE}}{\\mathrm{SST}} = \\frac{\\mathrm{SSR}}{\\mathrm{SST}}, \\quad 0 \\le R^2 \\le 1\n",
    "$$\n",
    "\n",
    "**Interpretation:**\n",
    "\n",
    "- $R^2 = 0.82$ → 82 % der Variation in $y$ werden durch das lineare Modell erklärt.\n",
    "- Ein höheres $R^2$ bedeutet stärkere lineare Erklärbarkeit.\n",
    "- Aber ein hohes $R^2$ garantiert nicht, dass die Modellannahmen (Linearität, Homoskedastizität, Normalität) erfüllt sind.\n",
    "\n",
    "**Kontext Bremsweg ~ Geschwindigkeit:**\n",
    "Da $s \\propto v^2$ gilt, kann die lineare Annäherung etwas Erklärungsgrad verlieren; trotzdem ist ein hohes $R^2$ üblich, weil der Trend stark ist.\n",
    "\n",
    "---\n",
    "\n",
    "### Lösungsansatz\n",
    "\n",
    "- **sklearn:** `m.score(X, y)` liefert direkt $R^2$.\n",
    "- **statsmodels:** `r.rsquared` liefert ebenfalls $R^2$.\n",
    "- **Manuell (optional):** über $1 - \\mathrm{SSE}/\\mathrm{SST}$ prüfen."
   ],
   "id": "8ec247c6e5075778"
  },
  {
   "metadata": {
    "ExecuteTime": {
     "end_time": "2025-10-18T13:57:08.094481Z",
     "start_time": "2025-10-18T13:57:08.087466Z"
    }
   },
   "cell_type": "code",
   "source": "m.score(df[['geschwindigkeit']], df['distanz'])\n",
   "id": "e8962c3175b43a87",
   "outputs": [
    {
     "data": {
      "text/plain": [
       "0.8243250457863955"
      ]
     },
     "execution_count": 7,
     "metadata": {},
     "output_type": "execute_result"
    }
   ],
   "execution_count": 7
  },
  {
   "metadata": {},
   "cell_type": "markdown",
   "source": [
    "\n",
    "---\n",
    "\n",
    "### Erklärung des Outputs\n",
    "\n",
    "- $R^2$ nahe 1 → sehr gute lineare Erklärung.\n",
    "- Mittelwert (0.6–0.8) → brauchbar, aber leichte Nichtlinearität möglich.\n",
    "- Niedrig → lineares Modell ungeeignet oder Ausreisser vorhanden.\n",
    "\n",
    "**Kurznotiz (prüfungsreif):**\n",
    "> „$R^2 = …$ → Geschwindigkeit erklärt … % der Variation im Bremsweg. Trotz gutem $R^2$ werden Residuen in 1e/1f auf Linearität und Homoskedastizität geprüft.“\n",
    ">\n",
    ">\n"
   ],
   "id": "9a48d8086a4bf072"
  },
  {
   "metadata": {},
   "cell_type": "markdown",
   "source": [
    "---\n",
    "---\n",
    "\n",
    "\n",
    "## Aufgabe 1e – Residuen berechnen & plotten\n",
    "\n",
    "**(2 P)**\n",
    "Berechnen und plotten Sie die **Residuen**.\n",
    "\n",
    "---\n",
    "\n",
    "### Theorie (aus dem Vorlesungsskript)\n",
    "\n",
    "Die Residuen $r_i$ sind die Differenz zwischen den beobachteten und den vorhergesagten Werten:\n",
    "\n",
    "$r_i = y_i - \\hat y_i$\n",
    "\n",
    "Sie messen, wie stark das Modell bei jeder Beobachtung danebenliegt.\n",
    "Im Skript wird betont: *„Bei einem guten linearen Modell sollen die Residuen zufällig um 0 streuen, ohne systematische Muster.“*\n",
    "\n",
    "**Ziele der grafischen Kontrolle:**\n",
    "\n",
    "1. **Residuen vs. $\\hat y$** – Überprüfung der Linearität\n",
    "   - zufällige Streuung um 0 → ok\n",
    "   - systematische Form (z. B. U-Form) → Modell nicht linear\n",
    "\n",
    "2. **Residuen vs. $x$** – Prüfung auf Heteroskedastizität\n",
    "   - konstante Streuung → ok\n",
    "   - trichterförmige Streuung → Varianz abhängig von $x$\n",
    "      - **Heteroskedastizitaet (Varianz nicht konstant):**\n",
    "        Wir erwarten Residuen mit etwa konstanter Streuung um 0. Nimmt die Streuung mit $x$ oder $\\hat y$ zu/ab (Trichterform), liegt Heteroskedastizitaet vor.\n",
    "\n",
    "\n",
    "\n",
    "\n",
    "---\n",
    "\n",
    "### Lösungsansatz\n",
    "\n",
    "- Berechne $\\hat y$ über das Modell (mit `predict()`).\n",
    "- Berechne $r_i = y_i - \\hat y_i$.\n",
    "- Stelle drei Plots dar:\n",
    "  - Residuen vs. $\\hat y$\n",
    "  - Residuen vs. $x$\n",
    "  - Histogramm der Residuen\n",
    "\n",
    "Diese Plots genügen, um visuell die Modellannahmen zu beurteilen."
   ],
   "id": "c15bb50e9fa0b105"
  },
  {
   "metadata": {
    "ExecuteTime": {
     "end_time": "2025-10-18T13:57:08.314864Z",
     "start_time": "2025-10-18T13:57:08.147358Z"
    }
   },
   "cell_type": "code",
   "source": [
    "#sklearn\n",
    "\n",
    "yhat = m.predict(df[['geschwindigkeit']])\n",
    "resid = df['distanz'] - yhat\n",
    "\n",
    "\n",
    "plt.scatter(yhat, resid); plt.axhline(0, color='black'); plt.show()\n",
    "plt.scatter(df['geschwindigkeit'], resid); plt.axhline(0, color='black'); plt.show()\n",
    "plt.hist(resid); plt.show()\n"
   ],
   "id": "96c01ec305200e62",
   "outputs": [
    {
     "data": {
      "text/plain": [
       "<Figure size 640x480 with 1 Axes>"
      ],
      "image/png": "[encoded data removed]"
     },
     "metadata": {},
     "output_type": "display_data"
    },
    {
     "data": {
      "text/plain": [
       "<Figure size 640x480 with 1 Axes>"
      ],
      "image/png": "[encoded data removed]"
     },
     "metadata": {},
     "output_type": "display_data"
    },
    {
     "data": {
      "text/plain": [
       "<Figure size 640x480 with 1 Axes>"
      ],
      "image/png": "[encoded data removed]"
     },
     "metadata": {},
     "output_type": "display_data"
    }
   ],
   "execution_count": 9
  },
  {
   "metadata": {
    "ExecuteTime": {
     "end_time": "2025-10-18T13:57:08.508198Z",
     "start_time": "2025-10-18T13:57:08.505830Z"
    }
   },
   "cell_type": "code",
   "source": "",
   "id": "2b4386aa7578fef2",
   "outputs": [],
   "execution_count": null
  },
  {
   "metadata": {},
   "cell_type": "markdown",
   "source": [
    "\n",
    "---\n",
    "\n",
    "### Erklärung des Outputs\n",
    "\n",
    "\n",
    "- **U-förmiges Muster:** Beziehung eher quadratisch → Modell anpassen.\n",
    "- **Deutlich U-foermiges Muster** in Residuen vs. $\\hat y$ und vs. $x$: Das lineare Modell ist **missspezifiziert** (Zusammenhang nicht linear).\n",
    "- **Konsequenz:** Ein **quadratischer Term** ($x^2$) oder eine **Transformation** der Zielvariable (z. B. $\\sqrt{y}$ oder $\\log y$) ist angebracht.\n",
    "- **Trichterform:** Varianz nicht konstant → Heteroskedastizität. Die Streuung nimmt zu höheren $x$-Werten hin zu (Trichter-Tendenz)\n",
    "- **Kurznotiz (pruefungsreif):**\n",
    "  > „Residuen zeigen klare U-Form → Lineares Modell unzureichend. Naechster Schritt: $x^2$ hinzufuegen **oder** $y$ transformieren (z. B. $\\sqrt{y}$). Ausserdem Anzeichen fuer Heteroskedastizitaet → nach Anpassung erneut Residuen pruefen.\n",
    "\n",
    "    >Histogramm rechtsschief → Modell unterschätzt hohe Bremswege. Ursache: tatsächlicher Zusammenhang nicht linear (eher $v^2$). Normalverteilungsannahme verletzt; Empfehlung: quadratischer Term ($x^2$) oder Transformation von $y$ prüfen.\"\n",
    "\n",
    "---\n",
    "---\n"
   ],
   "id": "c866c141f475586e"
  },
  {
   "metadata": {},
   "cell_type": "markdown",
   "source": [
    "## Aufgabe 1f – Residuentest durchführen\n",
    "\n",
    "**(3 P)**\n",
    "Führen Sie einen **Residuentest** durch. Schreiben Sie sowohl die **Testkriterien** wie auch die **Resultate** auf.\n",
    "\n",
    "---\n",
    "\n",
    "### Theorie\n",
    "\n",
    "Im Skript wird erklärt, dass die Qualität eines linearen Modells nicht nur über $R^2$,\n",
    "sondern auch über die **Analyse der Residuen** beurteilt wird.\n",
    "\n",
    "Die Residuen $r_i = y_i - \\hat y_i$ zeigen die Differenz zwischen beobachteten und durch das Modell vorhergesagten Werten.\n",
    "Sie sind entscheidend, um zu beurteilen, ob die Annahmen des linearen Modells erfüllt sind.\n",
    "\n",
    "Ein korrekt spezifiziertes lineares Modell erfüllt folgende Bedingungen:\n",
    "\n",
    "1. **Linearität**\n",
    "   Der Zusammenhang zwischen $x$ und $y$ ist linear, also $E[y|x] = \\alpha + \\beta x$.\n",
    "   → Im Residuenplot dürfen keine systematischen Strukturen wie eine U-Form erkennbar sein.\n",
    "\n",
    "2. **Erwartungswert der Fehler**\n",
    "   $E[\\varepsilon] = 0$.\n",
    "   → Die Residuen sollen gleichmässig um die Nulllinie streuen und im Mittel 0 ergeben.\n",
    "\n",
    "3. **Homoskedastizität (Varianzkonstanz)**\n",
    "   $\\mathrm{Var}(\\varepsilon_i)$ ist für alle Beobachtungen gleich.\n",
    "   → Die Streuung der Residuen sollte über den gesamten Wertebereich von $x$ konstant bleiben.\n",
    "   → Eine Trichterform deutet auf Heteroskedastizität hin (Varianz nimmt mit $x$ zu).\n",
    "\n",
    "4. **Normalverteilte Residuen**\n",
    "   Die Fehler sollen annähernd normalverteilt sein.\n",
    "   → Das Histogramm der Residuen sollte symmetrisch und glockenförmig sein.\n",
    "   → Eine Schiefe weist auf eine Verletzung der Normalverteilungsannahme hin.\n",
    "\n",
    "5. **Unabhängigkeit der Fehler**\n",
    "   Die Residuen sollen nicht miteinander korreliert sein.\n",
    "   → Bei zufälliger Stichprobe ohne Zeitstruktur wird diese Annahme in der Regel als erfüllt betrachtet.\n",
    "\n",
    "---\n",
    "\n",
    "**Im Skript wird betont:**\n",
    "> „Wenn das lineare Modell passt, sollen die Residuen zufällig um 0 verteilt sein und keine Struktur zeigen.“\n",
    "\n",
    "**In der Prüfung genügt die visuelle Beurteilung** der drei Standardplots (siehe Aufgabe 1e):\n",
    "- Residuen vs. $\\hat y$\n",
    "- Residuen vs. $x$\n",
    "- Histogramm der Residuen\n",
    "\n",
    "---\n",
    "\n",
    "### Interpretation der Residuenplots (Ergebnisse des Tests)\n",
    "\n",
    "- **Linearität:** Die Residuen zeigen eine deutliche **U-Form** → das Modell ist **nicht linear genug**.\n",
    "  Verbesserung: $x^2$ hinzufügen oder $y$ transformieren (z. B. $\\sqrt y$).\n",
    "- **Homoskedastizität:** Die Streuung der Residuen nimmt mit $x$ zu (**Trichterform**) → Varianz nicht konstant.\n",
    "- **Normalität:** Das Histogramm ist **rechtsschief** (linkssteil, Ausreisser rechts) → Fehler nicht normalverteilt; Modell unterschätzt hohe Bremswege.\n",
    "- **Unabhängigkeit:** Keine auffälligen Muster → Annahme vermutlich erfüllt.\n",
    "\n",
    "---\n",
    "\n",
    "### Kurznotiz (prüfungsreif)\n",
    "\n",
    "> „Residuen zeigen U-Form, Heteroskedastizität und Rechtsschiefe → Annahmen verletzt.\n",
    "> Empfehlung: $x^2$-Term oder Transformation von $y$ einführen und Residuen erneut prüfen.“\n"
   ],
   "id": "3dcc07e16cac09b2"
  },
  {
   "metadata": {},
   "cell_type": "markdown",
   "source": [
    "---\n",
    "---\n",
    "\n",
    "## Aufgabe 1g – Beurteilung des Modells\n",
    "\n",
    "**(2 P)**\n",
    "Beurteilen Sie das **lineare Modell** aufgrund Ihrer Ergebnisse.\n",
    "Interpretieren Sie die Regressionskoeffizienten und die Modellgüte inhaltlich und statistisch.\n",
    "\n",
    "---\n",
    "\n",
    "### Theorie\n",
    "\n",
    "Im Skript wird betont, dass ein lineares Regressionsmodell nur dann sinnvoll ist,\n",
    "wenn es sowohl **statistisch plausibel** als auch **inhaltlich interpretierbar** ist.\n",
    "\n",
    "Die Beurteilung stützt sich auf zwei Ebenen:\n",
    "\n",
    "1. **Statistische Bewertung**\n",
    "   - **Steigungskoeffizient $\\hat\\beta$:** beschreibt, wie stark $y$ (hier der Bremsweg) im Mittel steigt,\n",
    "     wenn $x$ (die Geschwindigkeit) um eine Einheit zunimmt.\n",
    "     $\\hat\\beta>0$ bestätigt den erwarteten positiven Zusammenhang.\n",
    "   - **Achsenabschnitt $\\hat\\alpha$:** gibt den theoretischen Bremsweg bei $x=0$ an;\n",
    "     inhaltlich meist ohne Bedeutung, da das Modell dort nicht gültig ist.\n",
    "   - **Bestimmtheitsmass $R^2$:** misst, welcher Anteil der Variation in $y$\n",
    "     durch die lineare Beziehung mit $x$ erklärt wird.\n",
    "     Werte nahe 1 zeigen eine gute Erklärung, Werte unter 0.5 eine schwache Anpassung.\n",
    "\n",
    "2. **Diagnostische Bewertung (Residuenanalyse)**\n",
    "   - **Linearität:** keine systematische Struktur im Residuenplot.\n",
    "   - **Homoskedastizität:** konstante Varianz der Residuen.\n",
    "   - **Normalität:** annähernd symmetrische Residuenverteilung.\n",
    "   - **Unabhängigkeit:** Residuen ohne Muster oder Abhängigkeiten.\n",
    "\n",
    "Nur wenn diese Annahmen erfüllt sind, gelten die Schätzungen als unverzerrt und die Tests als verlässlich.\n",
    "\n",
    "---\n",
    "\n",
    "### Lösungsansatz & Erklärung\n",
    "\n",
    "- Ziehen Sie die Ergebnisse aus den vorherigen Aufgaben zusammen:\n",
    "  - Aus 1b: $\\hat\\alpha$, $\\hat\\beta$\n",
    "  - Aus 1d: $R^2$\n",
    "  - Aus 1e–1f: Residuenverhalten\n",
    "- Bewerten Sie damit die **Güte und Angemessenheit** des Modells.\n",
    "- Beurteilen Sie, ob eine Erweiterung (z. B. quadratischer Term $x^2$) angebracht ist.\n",
    "- Geben Sie an, ob das Modell trotz Abweichungen praktisch brauchbar bleibt.\n",
    "\n",
    "---\n",
    "\n",
    "### Interpretation\n",
    "\n",
    "- **Statistisch:**\n",
    "  Das Modell zeigt einen deutlichen positiven Zusammenhang zwischen Geschwindigkeit und Bremsweg ($\\hat\\beta>0$).\n",
    "  Der relativ hohe $R^2$ Wert bestätigt, dass ein grosser Teil der Variation in $y$ durch $x$ erklärt wird.\n",
    "\n",
    "- **Diagnostisch:**\n",
    "  Die Residuen weisen jedoch eine klare U-Form und zunehmende Streuung mit $x$ auf.\n",
    "  Das deutet auf Nichtlinearität und Heteroskedastizität hin.\n",
    "  Das Histogramm der Residuen ist rechtsschief (linkssteil mit Ausreissern rechts),\n",
    "  was eine Abweichung von der Normalverteilung signalisiert.\n",
    "\n",
    "- **Inhaltlich:**\n",
    "  Der positive Zusammenhang entspricht der physikalischen Erwartung,\n",
    "  dass der Bremsweg mit zunehmender Geschwindigkeit ansteigt.\n",
    "  Die U-Form erklärt sich dadurch, dass der reale Zusammenhang eher quadratisch ($s\\propto v^2$) ist.\n",
    "\n",
    "- **Gesamtbewertung:**\n",
    "  Das Modell ist für eine erste lineare Näherung brauchbar,\n",
    "  aber keine ausreichende Beschreibung des tatsächlichen Zusammenhangs.\n",
    "  Eine Erweiterung durch einen $x^2$-Term oder eine Transformation von $y$ (z. B. $\\sqrt y$) wäre angemessen.\n",
    "\n",
    "---\n",
    "\n",
    "### Kurznotiz (prüfungsreif)\n",
    "\n",
    "> „$\\hat\\beta>0$ → Bremsweg steigt mit Geschwindigkeit.\n",
    "> $R^2$ hoch → gute Grundanpassung.\n",
    "> Residuen zeigen U-Form und Rechtsschiefe → lineares Modell verletzt Annahmen.\n",
    "> Empfehlung: quadratisches Modell oder Transformation von $y$ testen.“\n"
   ],
   "id": "4159126675965824"
  },
  {
   "metadata": {
    "ExecuteTime": {
     "end_time": "2025-10-18T13:57:08.531347Z",
     "start_time": "2025-10-18T13:57:08.528859Z"
    }
   },
   "cell_type": "code",
   "source": "",
   "id": "6cfdcdb8b9cc6700",
   "outputs": [],
   "execution_count": null
  },
  {
   "metadata": {
    "ExecuteTime": {
     "end_time": "2025-10-18T13:57:08.556808Z",
     "start_time": "2025-10-18T13:57:08.554201Z"
    }
   },
   "cell_type": "code",
   "source": "",
   "id": "ff60761bf668023f",
   "outputs": [],
   "execution_count": null
  },
  {
   "metadata": {
    "ExecuteTime": {
     "end_time": "2025-10-18T13:57:08.595117Z",
     "start_time": "2025-10-18T13:57:08.592995Z"
    }
   },
   "cell_type": "code",
   "source": "",
   "id": "3a2590d2c5b8295f",
   "outputs": [],
   "execution_count": null
  }
 ],
 "metadata": {
  "kernelspec": {
   "display_name": "Python 3",
   "language": "python",
   "name": "python3"
  },
  "language_info": {
   "codemirror_mode": {
    "name": "ipython",
    "version": 2
   },
   "file_extension": ".py",
   "mimetype": "text/x-python",
   "name": "python",
   "nbconvert_exporter": "python",
   "pygments_lexer": "ipython2",
   "version": "2.7.6"
  }
 },
 "nbformat": 4,
 "nbformat_minor": 5
}
