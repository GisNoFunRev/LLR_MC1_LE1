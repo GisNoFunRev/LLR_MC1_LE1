{
 "cells": [
  {
   "cell_type": "markdown",
   "id": "e1171f6a",
   "metadata": {},
   "source": [
    "# LE1 – Prüfungs-Template (Python)\n",
    "\n",
    "Dieses Notebook dient als schnelle **Arbeitsvorlage** für die 25‑Minuten‑Prüfung (LE1).\n",
    "- Für **jede Teilaufgabe (1a–1g)** gibt es zuerst einen **Markdown‑Block** (Aufgabenbeschrieb) und direkt danach einen **Code‑Block** „meine Lösung“.\n",
    "- Schreibe deinen Code **nur als Funktionen** (prüfungsfreundlich, wiederverwendbar).  \n",
    "- Halte die Ausgabe knapp und füge kurze Kommentare hinzu."
   ]
  },
  {
   "cell_type": "markdown",
   "id": "43096f43",
   "metadata": {},
   "source": [
    "## Aufgabe 1 (13 Punkte) – Aufgabenbeschrieb\n",
    "\n",
    "Sie haben die Datei `autos.csv` erhalten, welche den Bremsweg von Autos bei verschiedenen Geschwindigkeiten beinhaltet.\n",
    "\n",
    "**(a) (2 P)** Lesen Sie die Daten in R oder Python ein und stellen Sie den Bremsweg vs. die Geschwindigkeit grafisch dar.  \n",
    "**(b) (2 P)** Führen Sie eine lineare Regression durch, um ein Modell für den Bremsweg zu finden. Sie dürfen dazu beliebige Libraries/Methoden benützen. Geben Sie die gefundene Gleichung hier an.  \n",
    "**(c) (1 P)** Erstellen Sie eine zweite Grafik, in welcher die Regressionsgerade zusammen mit den Daten dargestellt ist.  \n",
    "**(d) (2 P)** Berechnen Sie \\(R^2\\). Bewerten Sie die Qualität des Modells hier in Worten.  \n",
    "**(e) (2 P)** Berechnen und plotten Sie die Residuen.  \n",
    "**(f) (3 P)** Führen Sie einen Residuentest durch. Schreiben Sie sowohl die Testkriterien, wie auch die Resultate des Tests entweder hier oder in Ihrer Datei auf.  \n",
    "**(g) (1 P)** Was ist Ihre Schlussfolgerung für das lineare Modell gemäss allen obigen Resultaten? Würden Sie das Modell ändern (wenn ja, wie? wenn nicht, warum ist es gut)?"
   ]
  },
  {
   "metadata": {
    "ExecuteTime": {
     "end_time": "2025-10-18T08:46:27.758502Z",
     "start_time": "2025-10-18T08:46:27.755224Z"
    }
   },
   "cell_type": "code",
   "source": [
    "import pandas as pd\n",
    "import numpy as np\n",
    "import matplotlib.pyplot as plt"
   ],
   "id": "a9d06ba6ad3c7fa5",
   "outputs": [],
   "execution_count": 13
  },
  {
   "cell_type": "markdown",
   "id": "3c6134df",
   "metadata": {},
   "source": [
    "### (1a) Daten einlesen & Scatterplot – *meine Notizen*"
   ]
  },
  {
   "cell_type": "code",
   "id": "dedab024fca6185c",
   "metadata": {},
   "source": [
    "df = pd.read_csv('autos-1647012077(1).csv')\n",
    "df.info()"
   ],
   "outputs": [],
   "execution_count": null
  },
  {
   "metadata": {
    "ExecuteTime": {
     "end_time": "2025-10-18T08:50:03.382267Z",
     "start_time": "2025-10-18T08:50:03.289624Z"
    }
   },
   "cell_type": "code",
   "source": [
    "\n",
    "plt.scatter(df['geschwindigkeit'], df['distanz'])"
   ],
   "id": "61956159",
   "outputs": [
    {
     "data": {
      "text/plain": [
       "<matplotlib.collections.PathCollection at 0x1a9587e7890>"
      ]
     },
     "execution_count": 14,
     "metadata": {},
     "output_type": "execute_result"
    },
    {
     "data": {
      "text/plain": [
       "<Figure size 640x480 with 1 Axes>"
      ],
      "image/png": "[encoded data removed]"
     },
     "metadata": {},
     "output_type": "display_data"
    }
   ],
   "execution_count": 14
  },
  {
   "cell_type": "markdown",
   "id": "d9745d8a",
   "metadata": {},
   "source": [
    "### (1b) Lineare Regression (OLS) – *meine Notizen*"
   ]
  },
  {
   "metadata": {
    "ExecuteTime": {
     "end_time": "2025-10-18T11:19:07.052369Z",
     "start_time": "2025-10-18T11:19:07.043081Z"
    }
   },
   "cell_type": "code",
   "source": [
    "from sklearn.linear_model import LinearRegression\n",
    "\n",
    "model_lin = LinearRegression().fit(df[['geschwindigkeit']], df[['distanz']])\n",
    "print(model_lin.coef_, model_lin.intercept_)"
   ],
   "id": "9bf37f15d4a9f571",
   "outputs": [
    {
     "name": "stdout",
     "output_type": "stream",
     "text": [
      "[[4.26955569]] [-22.91255308]\n"
     ]
    }
   ],
   "execution_count": 36
  },
  {
   "metadata": {
    "ExecuteTime": {
     "end_time": "2025-10-18T09:49:37.473012Z",
     "start_time": "2025-10-18T09:49:37.458579Z"
    }
   },
   "cell_type": "code",
   "source": [
    "import statsmodels.api as sm\n",
    "X = sm.add_constant(df['geschwindigkeit'])\n",
    "y = df['distanz']\n",
    "model = sm.OLS(df['distanz'], X).fit()\n",
    "print(model.summary())"
   ],
   "id": "ac578bf993d3e3f6",
   "outputs": [
    {
     "name": "stdout",
     "output_type": "stream",
     "text": [
      "                            OLS Regression Results                            \n",
      "==============================================================================\n",
      "Dep. Variable:                distanz   R-squared:                       0.824\n",
      "Model:                            OLS   Adj. R-squared:                  0.821\n",
      "Method:                 Least Squares   F-statistic:                     225.2\n",
      "Date:                Sat, 18 Oct 2025   Prob (F-statistic):           9.38e-20\n",
      "Time:                        11:49:37   Log-Likelihood:                -193.79\n",
      "No. Observations:                  50   AIC:                             391.6\n",
      "Df Residuals:                      48   BIC:                             395.4\n",
      "Df Model:                           1                                         \n",
      "Covariance Type:            nonrobust                                         \n",
      "===================================================================================\n",
      "                      coef    std err          t      P>|t|      [0.025      0.975]\n",
      "-----------------------------------------------------------------------------------\n",
      "const             -22.9126      4.577     -5.006      0.000     -32.115     -13.710\n",
      "geschwindigkeit     4.2696      0.284     15.008      0.000       3.698       4.842\n",
      "==============================================================================\n",
      "Omnibus:                        9.057   Durbin-Watson:                   1.783\n",
      "Prob(Omnibus):                  0.011   Jarque-Bera (JB):                9.032\n",
      "Skew:                           0.751   Prob(JB):                       0.0109\n",
      "Kurtosis:                       4.442   Cond. No.                         43.9\n",
      "==============================================================================\n",
      "\n",
      "Notes:\n",
      "[1] Standard Errors assume that the covariance matrix of the errors is correctly specified.\n"
     ]
    }
   ],
   "execution_count": 32
  },
  {
   "metadata": {},
   "cell_type": "markdown",
   "source": [
    "# (1b) – meine Lösung\n",
    "§\n",
    "from sklearn.linear_model import LinearRegression\n",
    "\n",
    "def aufgabe_1b(df, x_col: str, y_col: str):\n",
    "    \"\"\"Fit OLS, gib α (intercept) und β (slope) zurück.\"\"\"\n",
    "    X = np.asarray(df[[x_col]], dtype=float)\n",
    "    y = np.asarray(df[y_col], dtype=float)\n",
    "    model = LinearRegression().fit(X, y)\n",
    "    alpha = float(model.intercept_)\n",
    "    beta = float(model.coef_.ravel()[0])\n",
    "    print(f\"Gleichung: y = {alpha:.3f} + {beta:.3f} * x\")\n",
    "    return model, alpha, beta"
   ],
   "id": "5435d7665c34fca7"
  },
  {
   "cell_type": "markdown",
   "id": "d90414af",
   "metadata": {},
   "source": [
    "### (1c) Daten + Regressionsgerade plotten – *meine Notizen*"
   ]
  },
  {
   "cell_type": "code",
   "id": "b3ab985b",
   "metadata": {
    "ExecuteTime": {
     "end_time": "2025-10-18T11:19:32.308914Z",
     "start_time": "2025-10-18T11:19:32.210537Z"
    }
   },
   "source": [
    "# (1c) – meine Lösung\n",
    "\n",
    "\n",
    "plt.scatter(df['geschwindigkeit'], df['distanz'], )\n",
    "y_pred = model_lin.predict(df[['geschwindigkeit']])\n",
    "R2 = model_lin.lin.rsquared\n",
    "res = y - y_pred\n",
    "plt.scatter(df['geschwindigkeit'], df['distanz'], )"
   ],
   "outputs": [
    {
     "ename": "AttributeError",
     "evalue": "'LinearRegression' object has no attribute 'lin'",
     "output_type": "error",
     "traceback": [
      "\u001B[31m---------------------------------------------------------------------------\u001B[39m",
      "\u001B[31mAttributeError\u001B[39m                            Traceback (most recent call last)",
      "\u001B[36mCell\u001B[39m\u001B[36m \u001B[39m\u001B[32mIn[37]\u001B[39m\u001B[32m, line 6\u001B[39m\n\u001B[32m      4\u001B[39m plt.scatter(df[\u001B[33m'\u001B[39m\u001B[33mgeschwindigkeit\u001B[39m\u001B[33m'\u001B[39m], df[\u001B[33m'\u001B[39m\u001B[33mdistanz\u001B[39m\u001B[33m'\u001B[39m], )\n\u001B[32m      5\u001B[39m y_pred = model_lin.predict(df[[\u001B[33m'\u001B[39m\u001B[33mgeschwindigkeit\u001B[39m\u001B[33m'\u001B[39m]])\n\u001B[32m----> \u001B[39m\u001B[32m6\u001B[39m R2 = \u001B[43mmodel_lin\u001B[49m\u001B[43m.\u001B[49m\u001B[43mlin\u001B[49m.rsquared\n\u001B[32m      7\u001B[39m res = y - y_pred\n\u001B[32m      8\u001B[39m plt.scatter(df[\u001B[33m'\u001B[39m\u001B[33mgeschwindigkeit\u001B[39m\u001B[33m'\u001B[39m], df[\u001B[33m'\u001B[39m\u001B[33mdistanz\u001B[39m\u001B[33m'\u001B[39m], )\n",
      "\u001B[31mAttributeError\u001B[39m: 'LinearRegression' object has no attribute 'lin'"
     ]
    },
    {
     "data": {
      "text/plain": [
       "<Figure size 640x480 with 1 Axes>"
      ],
      "image/png": "[encoded data removed]"
     },
     "metadata": {},
     "output_type": "display_data"
    }
   ],
   "execution_count": 37
  },
  {
   "cell_type": "markdown",
   "id": "a32d1eb9",
   "metadata": {},
   "source": [
    "### (1d) R^2 berechnen & kurz interpretieren – *meine Notizen*"
   ]
  },
  {
   "cell_type": "code",
   "id": "9a8cce86",
   "metadata": {
    "ExecuteTime": {
     "end_time": "2025-10-18T11:19:49.742845Z",
     "start_time": "2025-10-18T11:19:49.737318Z"
    }
   },
   "source": "y_pred = model_lin.predict(df[['geschwindigkeit']])\n",
   "outputs": [],
   "execution_count": 38
  },
  {
   "cell_type": "markdown",
   "id": "06e7df21",
   "metadata": {},
   "source": [
    "### (1e) Residuen berechnen & plotten – *meine Notizen*"
   ]
  },
  {
   "cell_type": "code",
   "id": "09da58ab",
   "metadata": {},
   "source": [
    "# (1e) – meine Lösung\n",
    "def aufgabe_1e(df, x_col: str, y_col: str, model):\n",
    "    X = np.asarray(df[[x_col]], dtype=float)\n",
    "    y = np.asarray(df[y_col], dtype=float)\n",
    "    yhat = model.predict(X)\n",
    "    resid = y - yhat\n",
    "\n",
    "    # Residuen vs. Fitted\n",
    "    plt.figure()\n",
    "    plt.scatter(yhat, resid, alpha=0.8, edgecolor=\"none\")\n",
    "    plt.axhline(0, ls=\"--\"); plt.xlabel(\"ŷ\"); plt.ylabel(\"Residuen\")\n",
    "    plt.title(\"Residuen vs. ŷ\"); plt.grid(True, alpha=0.25); plt.tight_layout(); plt.show()\n",
    "\n",
    "    # Residuen vs. x\n",
    "    plt.figure()\n",
    "    plt.scatter(df[x_col], resid, alpha=0.8, edgecolor=\"none\")\n",
    "    plt.axhline(0, ls=\"--\"); plt.xlabel(x_col); plt.ylabel(\"Residuen\")\n",
    "    plt.title(\"Residuen vs. x\"); plt.grid(True, alpha=0.25); plt.tight_layout(); plt.show()\n",
    "\n",
    "    # Histogramm\n",
    "    plt.figure()\n",
    "    plt.hist(resid, bins=\"auto\")\n",
    "    plt.xlabel(\"Residuen\"); plt.ylabel(\"Häufigkeit\")\n",
    "    plt.title(\"Histogramm der Residuen\"); plt.grid(True, alpha=0.25)\n",
    "    plt.tight_layout(); plt.show()\n",
    "    return yhat, resid"
   ],
   "outputs": [],
   "execution_count": null
  },
  {
   "cell_type": "markdown",
   "id": "36090f44",
   "metadata": {},
   "source": [
    "### (1f) Residuentest (leicht) – *meine Notizen*"
   ]
  },
  {
   "cell_type": "code",
   "id": "625e78dc",
   "metadata": {},
   "source": [
    "# (1f) – meine Lösung\n",
    "def durbin_watson(resid):\n",
    "    resid = np.asarray(resid, dtype=float)\n",
    "    num = np.sum(np.diff(resid)**2)\n",
    "    den = np.sum(resid**2)\n",
    "    return float(num/den) if den > 0 else float(\"nan\")\n",
    "\n",
    "def aufgabe_1f(yhat, resid):\n",
    "    DW = durbin_watson(resid)\n",
    "    skew = pd.Series(resid).skew()\n",
    "    kurt = pd.Series(resid).kurt()\n",
    "    print(f\"Durbin–Watson ≈ {DW:.3f}  |  Schiefe = {skew:.3f}  |  Kurtosis = {kurt:.3f}\")\n",
    "    # TODO: kurze Bewertung in Markdown (≈2 -> ok bzgl. Autokorrelation; Schiefe/Kurt nahe 0 -> grob normal)\n",
    "    return {\"DW\": DW, \"skew\": float(skew), \"kurt\": float(kurt)}"
   ],
   "outputs": [],
   "execution_count": null
  },
  {
   "cell_type": "markdown",
   "id": "909a1e7a",
   "metadata": {},
   "source": [
    "### (1g) Schlussfolgerung zum Modell – *meine Notizen*"
   ]
  },
  {
   "cell_type": "code",
   "id": "5f1aa29a",
   "metadata": {},
   "source": [
    "# (1g) – meine Lösung\n",
    "def aufgabe_1g(r2, resid, df, x_col):\n",
    "    # TODO: Entscheidungstext in Markdown schreiben.\n",
    "    # Optional: einfache Heuristik für Hinweise\n",
    "    x = np.asarray(df[[x_col]], dtype=float).ravel()\n",
    "    corr_x2 = np.corrcoef(x**2, resid)[0,1]\n",
    "    print(f\"Hinweis-Check (Korrelation resid ~ x^2): {corr_x2:.3f}\")\n",
    "    # -> Bei U-Form/Trichter: Transformation (z.B. sqrt(y)) oder x^2-Term prüfen."
   ],
   "outputs": [],
   "execution_count": null
  },
  {
   "metadata": {},
   "cell_type": "code",
   "source": "",
   "id": "b2d7e9623289e13b",
   "outputs": [],
   "execution_count": null
  },
  {
   "metadata": {},
   "cell_type": "code",
   "source": "",
   "id": "194756e757e0962d",
   "outputs": [],
   "execution_count": null
  }
 ],
 "metadata": {
  "kernelspec": {
   "name": "python3",
   "language": "python",
   "display_name": "Python 3 (ipykernel)"
  }
 },
 "nbformat": 4,
 "nbformat_minor": 5
}
